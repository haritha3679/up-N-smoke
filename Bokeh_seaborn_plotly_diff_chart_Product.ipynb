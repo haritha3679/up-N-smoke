{
 "cells": [
  {
   "cell_type": "code",
   "execution_count": 1,
   "metadata": {},
   "outputs": [],
   "source": [
    "# Dependencies\n",
    "import pandas as pd\n",
    "from pathlib import Path\n",
    "from bokeh.plotting import figure, show\n",
    "from bokeh.io import output_file\n",
    "from bokeh.models import HoverTool,ColumnDataSource,LabelSet\n",
    "from bokeh.io import export_png\n",
    "import numpy as np\n",
    "import plotly.graph_objects as go\n",
    "from ipywidgets import widgets\n",
    "import seaborn as sns\n",
    "from bokeh.models import BasicTickFormatter,FuncTickFormatter\n",
    "from bokeh.models.formatters import CustomJSTickFormatter\n",
    "from bokeh.plotting import figure, show\n",
    "from bokeh.io import output_notebook\n",
    "from bokeh.models import ColumnDataSource,Label\n",
    "from bokeh.palettes import Category20\n",
    "from bokeh.transform import dodge"
   ]
  },
  {
   "cell_type": "code",
   "execution_count": 2,
   "metadata": {},
   "outputs": [],
   "source": [
    "# Store filepath in a variable\n",
    "Med_use = Path(\"data/MA/Medical_unit_sales.csv\")\n",
    "rec_use = Path(\"data/MA/Recreational_unit_sales.csv\") "
   ]
  },
  {
   "cell_type": "code",
   "execution_count": 3,
   "metadata": {},
   "outputs": [],
   "source": [
    "# Read our data file with the Pandas library\n",
    "# Not every CSV requires an encoding, but be aware this can come up\n",
    "Med_use_df = pd.read_csv(Med_use, encoding=\"ISO-8859-1\")\n",
    "rec_use_df = pd.read_csv(rec_use, encoding=\"ISO-8859-1\")"
   ]
  },
  {
   "cell_type": "code",
   "execution_count": 4,
   "metadata": {},
   "outputs": [
    {
     "data": {
      "text/html": [
       "<div>\n",
       "<style scoped>\n",
       "    .dataframe tbody tr th:only-of-type {\n",
       "        vertical-align: middle;\n",
       "    }\n",
       "\n",
       "    .dataframe tbody tr th {\n",
       "        vertical-align: top;\n",
       "    }\n",
       "\n",
       "    .dataframe thead th {\n",
       "        text-align: right;\n",
       "    }\n",
       "</style>\n",
       "<table border=\"1\" class=\"dataframe\">\n",
       "  <thead>\n",
       "    <tr style=\"text-align: right;\">\n",
       "      <th></th>\n",
       "      <th>ï»¿RecordNo</th>\n",
       "      <th>SaleDate</th>\n",
       "      <th>ProductCategoryName</th>\n",
       "      <th>UnitOfMeasureName</th>\n",
       "      <th>TotalPrice</th>\n",
       "      <th>CountBasedTotal</th>\n",
       "      <th>DollarCountBasedTotal</th>\n",
       "      <th>WeightBasedTotal</th>\n",
       "      <th>DollarWeightBasedTotal</th>\n",
       "      <th>Quantity</th>\n",
       "      <th>CCCLastUpdated</th>\n",
       "    </tr>\n",
       "  </thead>\n",
       "  <tbody>\n",
       "    <tr>\n",
       "      <th>0</th>\n",
       "      <td>1</td>\n",
       "      <td>11/5/2018</td>\n",
       "      <td>Infused (edible)</td>\n",
       "      <td>Each</td>\n",
       "      <td>60.00</td>\n",
       "      <td>2</td>\n",
       "      <td>60.00</td>\n",
       "      <td>0.00</td>\n",
       "      <td>0.00</td>\n",
       "      <td>2.00</td>\n",
       "      <td>04/08/2024</td>\n",
       "    </tr>\n",
       "    <tr>\n",
       "      <th>1</th>\n",
       "      <td>2</td>\n",
       "      <td>11/20/2018</td>\n",
       "      <td>Infused (edible)</td>\n",
       "      <td>Each</td>\n",
       "      <td>1381.90</td>\n",
       "      <td>61</td>\n",
       "      <td>1381.90</td>\n",
       "      <td>0.00</td>\n",
       "      <td>0.00</td>\n",
       "      <td>61.00</td>\n",
       "      <td>04/08/2024</td>\n",
       "    </tr>\n",
       "    <tr>\n",
       "      <th>2</th>\n",
       "      <td>2</td>\n",
       "      <td>11/20/2018</td>\n",
       "      <td>Concentrate (Each)</td>\n",
       "      <td>Each</td>\n",
       "      <td>4931.18</td>\n",
       "      <td>101</td>\n",
       "      <td>4931.18</td>\n",
       "      <td>0.00</td>\n",
       "      <td>0.00</td>\n",
       "      <td>101.00</td>\n",
       "      <td>04/08/2024</td>\n",
       "    </tr>\n",
       "    <tr>\n",
       "      <th>3</th>\n",
       "      <td>2</td>\n",
       "      <td>11/20/2018</td>\n",
       "      <td>Infused (non-edible)</td>\n",
       "      <td>Each</td>\n",
       "      <td>89.74</td>\n",
       "      <td>3</td>\n",
       "      <td>89.74</td>\n",
       "      <td>0.00</td>\n",
       "      <td>0.00</td>\n",
       "      <td>3.00</td>\n",
       "      <td>04/08/2024</td>\n",
       "    </tr>\n",
       "    <tr>\n",
       "      <th>4</th>\n",
       "      <td>2</td>\n",
       "      <td>11/20/2018</td>\n",
       "      <td>Buds</td>\n",
       "      <td>Grams</td>\n",
       "      <td>5159.59</td>\n",
       "      <td>0</td>\n",
       "      <td>0.00</td>\n",
       "      <td>441.51</td>\n",
       "      <td>5159.59</td>\n",
       "      <td>441.51</td>\n",
       "      <td>04/08/2024</td>\n",
       "    </tr>\n",
       "  </tbody>\n",
       "</table>\n",
       "</div>"
      ],
      "text/plain": [
       "   ï»¿RecordNo    SaleDate   ProductCategoryName UnitOfMeasureName  \\\n",
       "0            1   11/5/2018      Infused (edible)              Each   \n",
       "1            2  11/20/2018      Infused (edible)              Each   \n",
       "2            2  11/20/2018    Concentrate (Each)              Each   \n",
       "3            2  11/20/2018  Infused (non-edible)              Each   \n",
       "4            2  11/20/2018                  Buds             Grams   \n",
       "\n",
       "   TotalPrice  CountBasedTotal  DollarCountBasedTotal  WeightBasedTotal  \\\n",
       "0       60.00                2                  60.00              0.00   \n",
       "1     1381.90               61                1381.90              0.00   \n",
       "2     4931.18              101                4931.18              0.00   \n",
       "3       89.74                3                  89.74              0.00   \n",
       "4     5159.59                0                   0.00            441.51   \n",
       "\n",
       "   DollarWeightBasedTotal  Quantity CCCLastUpdated  \n",
       "0                    0.00      2.00     04/08/2024  \n",
       "1                    0.00     61.00     04/08/2024  \n",
       "2                    0.00    101.00     04/08/2024  \n",
       "3                    0.00      3.00     04/08/2024  \n",
       "4                 5159.59    441.51     04/08/2024  "
      ]
     },
     "execution_count": 4,
     "metadata": {},
     "output_type": "execute_result"
    }
   ],
   "source": [
    "# Show the first five rows.\n",
    "Med_use_df.head()"
   ]
  },
  {
   "cell_type": "code",
   "execution_count": 5,
   "metadata": {},
   "outputs": [
    {
     "data": {
      "text/html": [
       "<div>\n",
       "<style scoped>\n",
       "    .dataframe tbody tr th:only-of-type {\n",
       "        vertical-align: middle;\n",
       "    }\n",
       "\n",
       "    .dataframe tbody tr th {\n",
       "        vertical-align: top;\n",
       "    }\n",
       "\n",
       "    .dataframe thead th {\n",
       "        text-align: right;\n",
       "    }\n",
       "</style>\n",
       "<table border=\"1\" class=\"dataframe\">\n",
       "  <thead>\n",
       "    <tr style=\"text-align: right;\">\n",
       "      <th></th>\n",
       "      <th>ï»¿RecordNo</th>\n",
       "      <th>SaleDate</th>\n",
       "      <th>ProductCategoryName</th>\n",
       "      <th>UnitOfMeasureName</th>\n",
       "      <th>TotalPrice</th>\n",
       "      <th>CountBasedTotal</th>\n",
       "      <th>DollarCountBasedTotal</th>\n",
       "      <th>WeightBasedTotal</th>\n",
       "      <th>DollarWeightBasedTotal</th>\n",
       "      <th>Quantity</th>\n",
       "      <th>CCCLastUpdated</th>\n",
       "    </tr>\n",
       "  </thead>\n",
       "  <tbody>\n",
       "    <tr>\n",
       "      <th>0</th>\n",
       "      <td>1</td>\n",
       "      <td>11/5/2018</td>\n",
       "      <td>Infused (edible)</td>\n",
       "      <td>Each</td>\n",
       "      <td>60.00</td>\n",
       "      <td>2.0</td>\n",
       "      <td>60.00</td>\n",
       "      <td>0.0</td>\n",
       "      <td>0.0</td>\n",
       "      <td>2.0</td>\n",
       "      <td>04/08/2024</td>\n",
       "    </tr>\n",
       "    <tr>\n",
       "      <th>1</th>\n",
       "      <td>2</td>\n",
       "      <td>11/6/2018</td>\n",
       "      <td>Infused (edible)</td>\n",
       "      <td>Each</td>\n",
       "      <td>57.00</td>\n",
       "      <td>2.0</td>\n",
       "      <td>57.00</td>\n",
       "      <td>0.0</td>\n",
       "      <td>0.0</td>\n",
       "      <td>2.0</td>\n",
       "      <td>04/08/2024</td>\n",
       "    </tr>\n",
       "    <tr>\n",
       "      <th>2</th>\n",
       "      <td>3</td>\n",
       "      <td>11/19/2018</td>\n",
       "      <td>Buds</td>\n",
       "      <td>Grams</td>\n",
       "      <td>0.00</td>\n",
       "      <td>0.0</td>\n",
       "      <td>0.00</td>\n",
       "      <td>0.0</td>\n",
       "      <td>0.0</td>\n",
       "      <td>0.0</td>\n",
       "      <td>04/08/2024</td>\n",
       "    </tr>\n",
       "    <tr>\n",
       "      <th>3</th>\n",
       "      <td>3</td>\n",
       "      <td>11/19/2018</td>\n",
       "      <td>Concentrate (Each)</td>\n",
       "      <td>Each</td>\n",
       "      <td>0.00</td>\n",
       "      <td>0.0</td>\n",
       "      <td>0.00</td>\n",
       "      <td>0.0</td>\n",
       "      <td>0.0</td>\n",
       "      <td>0.0</td>\n",
       "      <td>04/08/2024</td>\n",
       "    </tr>\n",
       "    <tr>\n",
       "      <th>4</th>\n",
       "      <td>5</td>\n",
       "      <td>11/20/2018</td>\n",
       "      <td>Infused (edible)</td>\n",
       "      <td>Each</td>\n",
       "      <td>72192.26</td>\n",
       "      <td>3092.0</td>\n",
       "      <td>72192.26</td>\n",
       "      <td>0.0</td>\n",
       "      <td>0.0</td>\n",
       "      <td>3092.0</td>\n",
       "      <td>04/08/2024</td>\n",
       "    </tr>\n",
       "  </tbody>\n",
       "</table>\n",
       "</div>"
      ],
      "text/plain": [
       "   ï»¿RecordNo    SaleDate ProductCategoryName UnitOfMeasureName  TotalPrice  \\\n",
       "0            1   11/5/2018    Infused (edible)              Each       60.00   \n",
       "1            2   11/6/2018    Infused (edible)              Each       57.00   \n",
       "2            3  11/19/2018                Buds             Grams        0.00   \n",
       "3            3  11/19/2018  Concentrate (Each)              Each        0.00   \n",
       "4            5  11/20/2018    Infused (edible)              Each    72192.26   \n",
       "\n",
       "   CountBasedTotal  DollarCountBasedTotal  WeightBasedTotal  \\\n",
       "0              2.0                  60.00               0.0   \n",
       "1              2.0                  57.00               0.0   \n",
       "2              0.0                   0.00               0.0   \n",
       "3              0.0                   0.00               0.0   \n",
       "4           3092.0               72192.26               0.0   \n",
       "\n",
       "   DollarWeightBasedTotal  Quantity CCCLastUpdated  \n",
       "0                     0.0       2.0     04/08/2024  \n",
       "1                     0.0       2.0     04/08/2024  \n",
       "2                     0.0       0.0     04/08/2024  \n",
       "3                     0.0       0.0     04/08/2024  \n",
       "4                     0.0    3092.0     04/08/2024  "
      ]
     },
     "execution_count": 5,
     "metadata": {},
     "output_type": "execute_result"
    }
   ],
   "source": [
    "rec_use_df.head()"
   ]
  },
  {
   "cell_type": "markdown",
   "metadata": {},
   "source": []
  },
  {
   "cell_type": "code",
   "execution_count": 6,
   "metadata": {},
   "outputs": [
    {
     "data": {
      "text/plain": [
       "0        Infused (edible)\n",
       "1        Infused (edible)\n",
       "2      Concentrate (Each)\n",
       "3    Infused (non-edible)\n",
       "4                    Buds\n",
       "Name: ProductCategoryName, dtype: object"
      ]
     },
     "execution_count": 6,
     "metadata": {},
     "output_type": "execute_result"
    }
   ],
   "source": [
    "# Show a single column\n",
    "Med_use_df[\"ProductCategoryName\"].head()"
   ]
  },
  {
   "cell_type": "code",
   "execution_count": 7,
   "metadata": {},
   "outputs": [
    {
     "data": {
      "text/html": [
       "<div>\n",
       "<style scoped>\n",
       "    .dataframe tbody tr th:only-of-type {\n",
       "        vertical-align: middle;\n",
       "    }\n",
       "\n",
       "    .dataframe tbody tr th {\n",
       "        vertical-align: top;\n",
       "    }\n",
       "\n",
       "    .dataframe thead th {\n",
       "        text-align: right;\n",
       "    }\n",
       "</style>\n",
       "<table border=\"1\" class=\"dataframe\">\n",
       "  <thead>\n",
       "    <tr style=\"text-align: right;\">\n",
       "      <th></th>\n",
       "      <th>ProductCategoryName</th>\n",
       "      <th>TotalPrice</th>\n",
       "    </tr>\n",
       "  </thead>\n",
       "  <tbody>\n",
       "    <tr>\n",
       "      <th>0</th>\n",
       "      <td>Infused (edible)</td>\n",
       "      <td>60.00</td>\n",
       "    </tr>\n",
       "    <tr>\n",
       "      <th>1</th>\n",
       "      <td>Infused (edible)</td>\n",
       "      <td>1381.90</td>\n",
       "    </tr>\n",
       "    <tr>\n",
       "      <th>2</th>\n",
       "      <td>Concentrate (Each)</td>\n",
       "      <td>4931.18</td>\n",
       "    </tr>\n",
       "    <tr>\n",
       "      <th>3</th>\n",
       "      <td>Infused (non-edible)</td>\n",
       "      <td>89.74</td>\n",
       "    </tr>\n",
       "    <tr>\n",
       "      <th>4</th>\n",
       "      <td>Buds</td>\n",
       "      <td>5159.59</td>\n",
       "    </tr>\n",
       "    <tr>\n",
       "      <th>...</th>\n",
       "      <td>...</td>\n",
       "      <td>...</td>\n",
       "    </tr>\n",
       "    <tr>\n",
       "      <th>24155</th>\n",
       "      <td>Concentrate (Bulk)</td>\n",
       "      <td>50.40</td>\n",
       "    </tr>\n",
       "    <tr>\n",
       "      <th>24156</th>\n",
       "      <td>Concentrate (Each)</td>\n",
       "      <td>35355.36</td>\n",
       "    </tr>\n",
       "    <tr>\n",
       "      <th>24157</th>\n",
       "      <td>Kief</td>\n",
       "      <td>476.61</td>\n",
       "    </tr>\n",
       "    <tr>\n",
       "      <th>24158</th>\n",
       "      <td>Infused (edible)</td>\n",
       "      <td>75443.17</td>\n",
       "    </tr>\n",
       "    <tr>\n",
       "      <th>24159</th>\n",
       "      <td>Infused Beverage</td>\n",
       "      <td>3409.56</td>\n",
       "    </tr>\n",
       "  </tbody>\n",
       "</table>\n",
       "<p>24160 rows × 2 columns</p>\n",
       "</div>"
      ],
      "text/plain": [
       "        ProductCategoryName  TotalPrice\n",
       "0          Infused (edible)       60.00\n",
       "1          Infused (edible)     1381.90\n",
       "2        Concentrate (Each)     4931.18\n",
       "3      Infused (non-edible)       89.74\n",
       "4                      Buds     5159.59\n",
       "...                     ...         ...\n",
       "24155    Concentrate (Bulk)       50.40\n",
       "24156    Concentrate (Each)    35355.36\n",
       "24157                  Kief      476.61\n",
       "24158      Infused (edible)    75443.17\n",
       "24159      Infused Beverage     3409.56\n",
       "\n",
       "[24160 rows x 2 columns]"
      ]
     },
     "execution_count": 7,
     "metadata": {},
     "output_type": "execute_result"
    }
   ],
   "source": [
    "source_df = Med_use_df\n",
    "col_keep = [\"ProductCategoryName\",\"TotalPrice\"]\n",
    "source_df = Med_use_df.drop(Med_use_df.columns.difference(col_keep),axis = 1)\n",
    "source_df  \n"
   ]
  },
  {
   "cell_type": "code",
   "execution_count": 8,
   "metadata": {},
   "outputs": [
    {
     "data": {
      "text/html": [
       "<div>\n",
       "<style scoped>\n",
       "    .dataframe tbody tr th:only-of-type {\n",
       "        vertical-align: middle;\n",
       "    }\n",
       "\n",
       "    .dataframe tbody tr th {\n",
       "        vertical-align: top;\n",
       "    }\n",
       "\n",
       "    .dataframe thead th {\n",
       "        text-align: right;\n",
       "    }\n",
       "</style>\n",
       "<table border=\"1\" class=\"dataframe\">\n",
       "  <thead>\n",
       "    <tr style=\"text-align: right;\">\n",
       "      <th></th>\n",
       "      <th>ProductCategoryName</th>\n",
       "      <th>TotalPrice</th>\n",
       "    </tr>\n",
       "  </thead>\n",
       "  <tbody>\n",
       "    <tr>\n",
       "      <th>0</th>\n",
       "      <td>Buds</td>\n",
       "      <td>572976415.0</td>\n",
       "    </tr>\n",
       "    <tr>\n",
       "      <th>1</th>\n",
       "      <td>Concentrate</td>\n",
       "      <td>9252652.0</td>\n",
       "    </tr>\n",
       "    <tr>\n",
       "      <th>2</th>\n",
       "      <td>Concentrate (Bulk)</td>\n",
       "      <td>174460.0</td>\n",
       "    </tr>\n",
       "    <tr>\n",
       "      <th>3</th>\n",
       "      <td>Concentrate (Each)</td>\n",
       "      <td>116130774.0</td>\n",
       "    </tr>\n",
       "    <tr>\n",
       "      <th>4</th>\n",
       "      <td>Immature Plants</td>\n",
       "      <td>23300.0</td>\n",
       "    </tr>\n",
       "    <tr>\n",
       "      <th>5</th>\n",
       "      <td>Infused (edible)</td>\n",
       "      <td>183968828.0</td>\n",
       "    </tr>\n",
       "    <tr>\n",
       "      <th>6</th>\n",
       "      <td>Infused (non-edible)</td>\n",
       "      <td>10281928.0</td>\n",
       "    </tr>\n",
       "    <tr>\n",
       "      <th>7</th>\n",
       "      <td>Infused Beverage</td>\n",
       "      <td>8070232.0</td>\n",
       "    </tr>\n",
       "    <tr>\n",
       "      <th>8</th>\n",
       "      <td>Infused Pre-Rolls</td>\n",
       "      <td>11386402.0</td>\n",
       "    </tr>\n",
       "    <tr>\n",
       "      <th>9</th>\n",
       "      <td>Kief</td>\n",
       "      <td>1341381.0</td>\n",
       "    </tr>\n",
       "    <tr>\n",
       "      <th>10</th>\n",
       "      <td>Raw Pre-Rolls</td>\n",
       "      <td>145794754.0</td>\n",
       "    </tr>\n",
       "    <tr>\n",
       "      <th>11</th>\n",
       "      <td>Seeds</td>\n",
       "      <td>3004.0</td>\n",
       "    </tr>\n",
       "    <tr>\n",
       "      <th>12</th>\n",
       "      <td>Shake/Trim</td>\n",
       "      <td>1796996.0</td>\n",
       "    </tr>\n",
       "    <tr>\n",
       "      <th>13</th>\n",
       "      <td>Shake/Trim (by strain)</td>\n",
       "      <td>11492483.0</td>\n",
       "    </tr>\n",
       "    <tr>\n",
       "      <th>14</th>\n",
       "      <td>Suppository</td>\n",
       "      <td>15780.0</td>\n",
       "    </tr>\n",
       "    <tr>\n",
       "      <th>15</th>\n",
       "      <td>Vape Product</td>\n",
       "      <td>182772440.0</td>\n",
       "    </tr>\n",
       "  </tbody>\n",
       "</table>\n",
       "</div>"
      ],
      "text/plain": [
       "       ProductCategoryName   TotalPrice\n",
       "0                     Buds  572976415.0\n",
       "1              Concentrate    9252652.0\n",
       "2       Concentrate (Bulk)     174460.0\n",
       "3       Concentrate (Each)  116130774.0\n",
       "4          Immature Plants      23300.0\n",
       "5         Infused (edible)  183968828.0\n",
       "6     Infused (non-edible)   10281928.0\n",
       "7         Infused Beverage    8070232.0\n",
       "8        Infused Pre-Rolls   11386402.0\n",
       "9                     Kief    1341381.0\n",
       "10           Raw Pre-Rolls  145794754.0\n",
       "11                   Seeds       3004.0\n",
       "12              Shake/Trim    1796996.0\n",
       "13  Shake/Trim (by strain)   11492483.0\n",
       "14             Suppository      15780.0\n",
       "15            Vape Product  182772440.0"
      ]
     },
     "execution_count": 8,
     "metadata": {},
     "output_type": "execute_result"
    }
   ],
   "source": [
    "sorted_df = source_df.sort_values(by='ProductCategoryName')\n",
    "cumulative_df = sorted_df.groupby('ProductCategoryName').agg({'TotalPrice': 'sum'}).reset_index()\n",
    "cumulative_df['TotalPrice'] = cumulative_df['TotalPrice'].round(0)\n",
    "cumulative_df"
   ]
  },
  {
   "cell_type": "code",
   "execution_count": 9,
   "metadata": {},
   "outputs": [
    {
     "name": "stdout",
     "output_type": "stream",
     "text": [
      "<class 'pandas.core.frame.DataFrame'>\n",
      "RangeIndex: 16 entries, 0 to 15\n",
      "Data columns (total 2 columns):\n",
      " #   Column               Non-Null Count  Dtype  \n",
      "---  ------               --------------  -----  \n",
      " 0   ProductCategoryName  16 non-null     object \n",
      " 1   TotalPrice           16 non-null     float64\n",
      "dtypes: float64(1), object(1)\n",
      "memory usage: 384.0+ bytes\n"
     ]
    }
   ],
   "source": [
    "cumulative_df.info()"
   ]
  },
  {
   "cell_type": "code",
   "execution_count": 10,
   "metadata": {},
   "outputs": [
    {
     "data": {
      "text/html": [
       "<div style=\"display: table;\"><div style=\"display: table-row;\"><div style=\"display: table-cell;\"><b title=\"bokeh.models.sources.ColumnDataSource\">ColumnDataSource</b>(</div><div style=\"display: table-cell;\">id&nbsp;=&nbsp;'p1001', <span id=\"p1008\" style=\"cursor: pointer;\">&hellip;)</span></div></div><div class=\"p1007\" style=\"display: none;\"><div style=\"display: table-cell;\"></div><div style=\"display: table-cell;\">data&nbsp;=&nbsp;{'index': array([ 0,  1,  2,  3,  4,  5,  6,  7,  8,  9, 10, 11, 12, 13, 14, 15],\n",
       "      dtype=int64), 'ProductCategoryName': array(['Buds', 'Concentrate', 'Concentrate (Bulk)', 'Concentrate (Each)',\n",
       "       'Immature Plants', 'Infused (edible)', 'Infused (non-edible)',\n",
       "       'Infused Beverage', 'Infused Pre-Rolls', 'Kief', 'Raw Pre-Rolls',\n",
       "       'Seeds', 'Shake/Trim', 'Shake/Trim (by strain)', 'Suppository',\n",
       "       'Vape Product'], dtype=object), 'TotalPrice': array([5.72976415e+08, 9.25265200e+06, 1.74460000e+05, 1.16130774e+08,\n",
       "       2.33000000e+04, 1.83968828e+08, 1.02819280e+07, 8.07023200e+06,\n",
       "       1.13864020e+07, 1.34138100e+06, 1.45794754e+08, 3.00400000e+03,\n",
       "       1.79699600e+06, 1.14924830e+07, 1.57800000e+04, 1.82772440e+08])},</div></div><div class=\"p1007\" style=\"display: none;\"><div style=\"display: table-cell;\"></div><div style=\"display: table-cell;\">js_event_callbacks&nbsp;=&nbsp;{},</div></div><div class=\"p1007\" style=\"display: none;\"><div style=\"display: table-cell;\"></div><div style=\"display: table-cell;\">js_property_callbacks&nbsp;=&nbsp;{},</div></div><div class=\"p1007\" style=\"display: none;\"><div style=\"display: table-cell;\"></div><div style=\"display: table-cell;\">name&nbsp;=&nbsp;None,</div></div><div class=\"p1007\" style=\"display: none;\"><div style=\"display: table-cell;\"></div><div style=\"display: table-cell;\">selected&nbsp;=&nbsp;Selection(id='p1002', ...),</div></div><div class=\"p1007\" style=\"display: none;\"><div style=\"display: table-cell;\"></div><div style=\"display: table-cell;\">selection_policy&nbsp;=&nbsp;UnionRenderers(id='p1003', ...),</div></div><div class=\"p1007\" style=\"display: none;\"><div style=\"display: table-cell;\"></div><div style=\"display: table-cell;\">subscribed_events&nbsp;=&nbsp;PropertyValueSet(),</div></div><div class=\"p1007\" style=\"display: none;\"><div style=\"display: table-cell;\"></div><div style=\"display: table-cell;\">syncable&nbsp;=&nbsp;True,</div></div><div class=\"p1007\" style=\"display: none;\"><div style=\"display: table-cell;\"></div><div style=\"display: table-cell;\">tags&nbsp;=&nbsp;[])</div></div></div>\n",
       "<script>\n",
       "(function() {\n",
       "  let expanded = false;\n",
       "  const ellipsis = document.getElementById(\"p1008\");\n",
       "  ellipsis.addEventListener(\"click\", function() {\n",
       "    const rows = document.getElementsByClassName(\"p1007\");\n",
       "    for (let i = 0; i < rows.length; i++) {\n",
       "      const el = rows[i];\n",
       "      el.style.display = expanded ? \"none\" : \"table-row\";\n",
       "    }\n",
       "    ellipsis.innerHTML = expanded ? \"&hellip;)\" : \"&lsaquo;&lsaquo;&lsaquo;\";\n",
       "    expanded = !expanded;\n",
       "  });\n",
       "})();\n",
       "</script>\n"
      ],
      "text/plain": [
       "ColumnDataSource(id='p1001', ...)"
      ]
     },
     "execution_count": 10,
     "metadata": {},
     "output_type": "execute_result"
    }
   ],
   "source": [
    "\n",
    "source = ColumnDataSource(cumulative_df)\n",
    "\n",
    "source1= ColumnDataSource(rec_use_df)\n",
    "source"
   ]
  },
  {
   "cell_type": "code",
   "execution_count": 11,
   "metadata": {},
   "outputs": [],
   "source": [
    "# Create a new plot with specified title and axis labels\n",
    "#p = figure(title=\"Bokeh Example - Scatter Plot from CSV\", x_axis_label='X-axis', y_axis_label='Y-axis')\n",
    "p = figure(x_range=cumulative_df['ProductCategoryName'], title=\"Marijuana Product Category & Sales in Billions\", x_axis_label='Category', y_axis_label='Sales in Billions',width = 1600,height = 400,toolbar_location=None, tools=\"\")\n",
    "#p = figure(x_range=cumulative_df['ProductCategoryName'], title=\"Marijuana Product Category & Price\", x_axis_label='Category', y_axis_label='Price',width = 1600,height = 400,tools=\"hover\", tooltips=\"Price: @TotalPrice\")\n",
    "\n",
    "#p = figure(title=\"Bokeh Example - Scatter Plot from CSV\", x_axis_label='X-axis', y_axis_label='Y-axis')\n",
    "p1 = figure(x_range=rec_use_df['SaleDate'], title=\"Marijuana adult-use\", x_axis_label='SaleDate', y_axis_label='Price',width = 1600,height = 400)"
   ]
  },
  {
   "cell_type": "code",
   "execution_count": 12,
   "metadata": {},
   "outputs": [],
   "source": [
    "labels = LabelSet(x='ProductCategoryName', y='TotalPrice', text='TotalPrice', level='glyph',\n",
    "                  x_offset=-13.5, y_offset=0, source=source, text_align='center', text_baseline='center')\n",
    "p.add_layout(labels)"
   ]
  },
  {
   "cell_type": "code",
   "execution_count": 13,
   "metadata": {},
   "outputs": [],
   "source": [
    "# Add a circle glyph to the plot\n",
    "p.vbar(x='ProductCategoryName', top='TotalPrice', source=source_df, width=0.5, color='blue')\n",
    "p.yaxis.major_label_orientation = (3.4 * 2)\n",
    "p.y_range.start = 0\n",
    "# p1.vbar(x='SaleDate', top='TotalPrice', source=source_df, width=0.5, color='green')\n",
    "p.xaxis.major_label_orientation = (3.4 * 2)\n",
    "p.yaxis.formatter.use_scientific = False"
   ]
  },
  {
   "cell_type": "code",
   "execution_count": 14,
   "metadata": {},
   "outputs": [],
   "source": [
    "# Specify the name of the output file\n",
    "output_file(\"bokeh_plot.html\")"
   ]
  },
  {
   "cell_type": "code",
   "execution_count": 15,
   "metadata": {},
   "outputs": [],
   "source": [
    "# Show the plot\n",
    "show(p)\n",
    "#show(p1)"
   ]
  },
  {
   "cell_type": "code",
   "execution_count": 16,
   "metadata": {},
   "outputs": [
    {
     "data": {
      "text/html": [
       "<div>\n",
       "<style scoped>\n",
       "    .dataframe tbody tr th:only-of-type {\n",
       "        vertical-align: middle;\n",
       "    }\n",
       "\n",
       "    .dataframe tbody tr th {\n",
       "        vertical-align: top;\n",
       "    }\n",
       "\n",
       "    .dataframe thead th {\n",
       "        text-align: right;\n",
       "    }\n",
       "</style>\n",
       "<table border=\"1\" class=\"dataframe\">\n",
       "  <thead>\n",
       "    <tr style=\"text-align: right;\">\n",
       "      <th></th>\n",
       "      <th>ï»¿RecordNo</th>\n",
       "      <th>SaleDate</th>\n",
       "      <th>ProductCategoryName</th>\n",
       "      <th>UnitOfMeasureName</th>\n",
       "      <th>TotalPrice</th>\n",
       "      <th>CountBasedTotal</th>\n",
       "      <th>DollarCountBasedTotal</th>\n",
       "      <th>WeightBasedTotal</th>\n",
       "      <th>DollarWeightBasedTotal</th>\n",
       "      <th>Quantity</th>\n",
       "      <th>CCCLastUpdated</th>\n",
       "    </tr>\n",
       "  </thead>\n",
       "  <tbody>\n",
       "    <tr>\n",
       "      <th>24155</th>\n",
       "      <td>24145</td>\n",
       "      <td>4/7/2024</td>\n",
       "      <td>Concentrate (Bulk)</td>\n",
       "      <td>Grams</td>\n",
       "      <td>50.40</td>\n",
       "      <td>0</td>\n",
       "      <td>0.00</td>\n",
       "      <td>2.0</td>\n",
       "      <td>50.40</td>\n",
       "      <td>2.0</td>\n",
       "      <td>04/08/2024</td>\n",
       "    </tr>\n",
       "    <tr>\n",
       "      <th>24156</th>\n",
       "      <td>24145</td>\n",
       "      <td>4/7/2024</td>\n",
       "      <td>Concentrate (Each)</td>\n",
       "      <td>Each</td>\n",
       "      <td>35355.36</td>\n",
       "      <td>1139</td>\n",
       "      <td>35355.36</td>\n",
       "      <td>0.0</td>\n",
       "      <td>0.00</td>\n",
       "      <td>1139.0</td>\n",
       "      <td>04/08/2024</td>\n",
       "    </tr>\n",
       "    <tr>\n",
       "      <th>24157</th>\n",
       "      <td>24145</td>\n",
       "      <td>4/7/2024</td>\n",
       "      <td>Kief</td>\n",
       "      <td>Grams</td>\n",
       "      <td>476.61</td>\n",
       "      <td>0</td>\n",
       "      <td>0.00</td>\n",
       "      <td>30.0</td>\n",
       "      <td>476.61</td>\n",
       "      <td>30.0</td>\n",
       "      <td>04/08/2024</td>\n",
       "    </tr>\n",
       "    <tr>\n",
       "      <th>24158</th>\n",
       "      <td>24145</td>\n",
       "      <td>4/7/2024</td>\n",
       "      <td>Infused (edible)</td>\n",
       "      <td>Each</td>\n",
       "      <td>75443.17</td>\n",
       "      <td>3412</td>\n",
       "      <td>75443.17</td>\n",
       "      <td>0.0</td>\n",
       "      <td>0.00</td>\n",
       "      <td>3412.0</td>\n",
       "      <td>04/08/2024</td>\n",
       "    </tr>\n",
       "    <tr>\n",
       "      <th>24159</th>\n",
       "      <td>24145</td>\n",
       "      <td>4/7/2024</td>\n",
       "      <td>Infused Beverage</td>\n",
       "      <td>Each</td>\n",
       "      <td>3409.56</td>\n",
       "      <td>473</td>\n",
       "      <td>3409.56</td>\n",
       "      <td>0.0</td>\n",
       "      <td>0.00</td>\n",
       "      <td>473.0</td>\n",
       "      <td>04/08/2024</td>\n",
       "    </tr>\n",
       "  </tbody>\n",
       "</table>\n",
       "</div>"
      ],
      "text/plain": [
       "       ï»¿RecordNo  SaleDate ProductCategoryName UnitOfMeasureName  \\\n",
       "24155        24145  4/7/2024  Concentrate (Bulk)             Grams   \n",
       "24156        24145  4/7/2024  Concentrate (Each)              Each   \n",
       "24157        24145  4/7/2024                Kief             Grams   \n",
       "24158        24145  4/7/2024    Infused (edible)              Each   \n",
       "24159        24145  4/7/2024    Infused Beverage              Each   \n",
       "\n",
       "       TotalPrice  CountBasedTotal  DollarCountBasedTotal  WeightBasedTotal  \\\n",
       "24155       50.40                0                   0.00               2.0   \n",
       "24156    35355.36             1139               35355.36               0.0   \n",
       "24157      476.61                0                   0.00              30.0   \n",
       "24158    75443.17             3412               75443.17               0.0   \n",
       "24159     3409.56              473                3409.56               0.0   \n",
       "\n",
       "       DollarWeightBasedTotal  Quantity CCCLastUpdated  \n",
       "24155                   50.40       2.0     04/08/2024  \n",
       "24156                    0.00    1139.0     04/08/2024  \n",
       "24157                  476.61      30.0     04/08/2024  \n",
       "24158                    0.00    3412.0     04/08/2024  \n",
       "24159                    0.00     473.0     04/08/2024  "
      ]
     },
     "execution_count": 16,
     "metadata": {},
     "output_type": "execute_result"
    }
   ],
   "source": [
    "# Show the last five rows.\n",
    "Med_use_df.tail()"
   ]
  },
  {
   "cell_type": "code",
   "execution_count": 17,
   "metadata": {},
   "outputs": [
    {
     "data": {
      "text/plain": [
       "Index(['ï»¿RecordNo', 'SaleDate', 'ProductCategoryName', 'UnitOfMeasureName',\n",
       "       'TotalPrice', 'CountBasedTotal', 'DollarCountBasedTotal',\n",
       "       'WeightBasedTotal', 'DollarWeightBasedTotal', 'Quantity',\n",
       "       'CCCLastUpdated'],\n",
       "      dtype='object')"
      ]
     },
     "execution_count": 17,
     "metadata": {},
     "output_type": "execute_result"
    }
   ],
   "source": [
    "rec_use_df.columns"
   ]
  },
  {
   "cell_type": "code",
   "execution_count": 18,
   "metadata": {},
   "outputs": [
    {
     "data": {
      "text/plain": [
       "Index(['ï»¿RecordNo', 'SaleDate', 'ProductCategoryName', 'UnitOfMeasureName',\n",
       "       'TotalPrice', 'CountBasedTotal', 'DollarCountBasedTotal',\n",
       "       'WeightBasedTotal', 'DollarWeightBasedTotal', 'Quantity',\n",
       "       'CCCLastUpdated'],\n",
       "      dtype='object')"
      ]
     },
     "execution_count": 18,
     "metadata": {},
     "output_type": "execute_result"
    }
   ],
   "source": [
    "Med_use_df.columns"
   ]
  },
  {
   "cell_type": "code",
   "execution_count": 19,
   "metadata": {},
   "outputs": [
    {
     "data": {
      "application/vnd.plotly.v1+json": {
       "config": {
        "plotlyServerURL": "https://plot.ly"
       },
       "data": [
        {
         "marker": {
          "color": "blue"
         },
         "name": "Recreational",
         "orientation": "h",
         "type": "bar",
         "x": [
          2396987.33,
          2511024700.32,
          60281.35,
          57737.29,
          24292.18,
          853654.94,
          575728.31,
          29845721.06,
          5736.95,
          206744.94,
          1356,
          679370.55,
          366.42,
          421925708.31,
          59347.94,
          36582.64,
          396598.79,
          834867439.03,
          34709090.36,
          43033513.95,
          452,
          932.89,
          62412733.73,
          25,
          127443.42,
          8279.74,
          5488756.37,
          20858.47,
          8969.81,
          824212780.76,
          144.34,
          86337.1,
          117,
          2077,
          51169.84,
          21841963.61,
          21175,
          3723,
          2477,
          68957742.14,
          58342.3,
          1097229914.92,
          -25
         ],
         "y": [
          "Buds",
          "Buds",
          "Buds",
          "Buds",
          "Buds",
          "Buds",
          "Concentrate",
          "Concentrate",
          "Concentrate",
          "Concentrate",
          "Concentrate",
          "Concentrate (Bulk)",
          "Concentrate (Bulk)",
          "Concentrate (Each)",
          "Concentrate (Each)",
          "Fresh Frozen Flower",
          "Immature Plants",
          "Infused (edible)",
          "Infused (non-edible)",
          "Infused Beverage",
          "Infused Beverages (Bulk)",
          "Infused Liquid (Bulk)",
          "Infused Pre-Rolls",
          "Infused Pre-Rolls",
          "Infused Pre-Rolls",
          "Kief",
          "Kief",
          "Kief",
          "Raw Pre-Rolls",
          "Raw Pre-Rolls",
          "Raw Pre-Rolls",
          "Raw Pre-Rolls",
          "Raw Pre-Rolls",
          "Raw Pre-Rolls",
          "Seeds",
          "Shake/Trim",
          "Shake/Trim",
          "Shake/Trim",
          "Shake/Trim (by strain)",
          "Shake/Trim (by strain)",
          "Suppository",
          "Vape Product",
          "Waste"
         ]
        },
        {
         "marker": {
          "color": "green"
         },
         "name": "Medical",
         "orientation": "h",
         "type": "bar",
         "x": [
          493275.67,
          572424208.54,
          15,
          21045.559999999998,
          37191.51,
          678.45,
          61519.479999999996,
          9145114.07,
          46018.51,
          174084.98,
          375.25,
          116130273.42,
          500.5,
          23300.16,
          183968828.29,
          10281928.3,
          8070231.82,
          12464.66,
          11350348.71,
          23588.68,
          1189.75,
          1335618.19,
          4573.55,
          29407.97,
          145763716.22,
          260.63,
          1368.75,
          3003.82,
          1796995.52,
          11492482.6,
          15779.54,
          182772439.5
         ],
         "y": [
          "Buds",
          "Buds",
          "Buds",
          "Buds",
          "Buds",
          "Buds",
          "Concentrate",
          "Concentrate",
          "Concentrate",
          "Concentrate (Bulk)",
          "Concentrate (Bulk)",
          "Concentrate (Each)",
          "Concentrate (Each)",
          "Immature Plants",
          "Infused (edible)",
          "Infused (non-edible)",
          "Infused Beverage",
          "Infused Pre-Rolls",
          "Infused Pre-Rolls",
          "Infused Pre-Rolls",
          "Kief",
          "Kief",
          "Kief",
          "Raw Pre-Rolls",
          "Raw Pre-Rolls",
          "Raw Pre-Rolls",
          "Raw Pre-Rolls",
          "Seeds",
          "Shake/Trim",
          "Shake/Trim (by strain)",
          "Suppository",
          "Vape Product"
         ]
        }
       ],
       "layout": {
        "barmode": "stack",
        "template": {
         "data": {
          "bar": [
           {
            "error_x": {
             "color": "#2a3f5f"
            },
            "error_y": {
             "color": "#2a3f5f"
            },
            "marker": {
             "line": {
              "color": "#E5ECF6",
              "width": 0.5
             },
             "pattern": {
              "fillmode": "overlay",
              "size": 10,
              "solidity": 0.2
             }
            },
            "type": "bar"
           }
          ],
          "barpolar": [
           {
            "marker": {
             "line": {
              "color": "#E5ECF6",
              "width": 0.5
             },
             "pattern": {
              "fillmode": "overlay",
              "size": 10,
              "solidity": 0.2
             }
            },
            "type": "barpolar"
           }
          ],
          "carpet": [
           {
            "aaxis": {
             "endlinecolor": "#2a3f5f",
             "gridcolor": "white",
             "linecolor": "white",
             "minorgridcolor": "white",
             "startlinecolor": "#2a3f5f"
            },
            "baxis": {
             "endlinecolor": "#2a3f5f",
             "gridcolor": "white",
             "linecolor": "white",
             "minorgridcolor": "white",
             "startlinecolor": "#2a3f5f"
            },
            "type": "carpet"
           }
          ],
          "choropleth": [
           {
            "colorbar": {
             "outlinewidth": 0,
             "ticks": ""
            },
            "type": "choropleth"
           }
          ],
          "contour": [
           {
            "colorbar": {
             "outlinewidth": 0,
             "ticks": ""
            },
            "colorscale": [
             [
              0,
              "#0d0887"
             ],
             [
              0.1111111111111111,
              "#46039f"
             ],
             [
              0.2222222222222222,
              "#7201a8"
             ],
             [
              0.3333333333333333,
              "#9c179e"
             ],
             [
              0.4444444444444444,
              "#bd3786"
             ],
             [
              0.5555555555555556,
              "#d8576b"
             ],
             [
              0.6666666666666666,
              "#ed7953"
             ],
             [
              0.7777777777777778,
              "#fb9f3a"
             ],
             [
              0.8888888888888888,
              "#fdca26"
             ],
             [
              1,
              "#f0f921"
             ]
            ],
            "type": "contour"
           }
          ],
          "contourcarpet": [
           {
            "colorbar": {
             "outlinewidth": 0,
             "ticks": ""
            },
            "type": "contourcarpet"
           }
          ],
          "heatmap": [
           {
            "colorbar": {
             "outlinewidth": 0,
             "ticks": ""
            },
            "colorscale": [
             [
              0,
              "#0d0887"
             ],
             [
              0.1111111111111111,
              "#46039f"
             ],
             [
              0.2222222222222222,
              "#7201a8"
             ],
             [
              0.3333333333333333,
              "#9c179e"
             ],
             [
              0.4444444444444444,
              "#bd3786"
             ],
             [
              0.5555555555555556,
              "#d8576b"
             ],
             [
              0.6666666666666666,
              "#ed7953"
             ],
             [
              0.7777777777777778,
              "#fb9f3a"
             ],
             [
              0.8888888888888888,
              "#fdca26"
             ],
             [
              1,
              "#f0f921"
             ]
            ],
            "type": "heatmap"
           }
          ],
          "heatmapgl": [
           {
            "colorbar": {
             "outlinewidth": 0,
             "ticks": ""
            },
            "colorscale": [
             [
              0,
              "#0d0887"
             ],
             [
              0.1111111111111111,
              "#46039f"
             ],
             [
              0.2222222222222222,
              "#7201a8"
             ],
             [
              0.3333333333333333,
              "#9c179e"
             ],
             [
              0.4444444444444444,
              "#bd3786"
             ],
             [
              0.5555555555555556,
              "#d8576b"
             ],
             [
              0.6666666666666666,
              "#ed7953"
             ],
             [
              0.7777777777777778,
              "#fb9f3a"
             ],
             [
              0.8888888888888888,
              "#fdca26"
             ],
             [
              1,
              "#f0f921"
             ]
            ],
            "type": "heatmapgl"
           }
          ],
          "histogram": [
           {
            "marker": {
             "pattern": {
              "fillmode": "overlay",
              "size": 10,
              "solidity": 0.2
             }
            },
            "type": "histogram"
           }
          ],
          "histogram2d": [
           {
            "colorbar": {
             "outlinewidth": 0,
             "ticks": ""
            },
            "colorscale": [
             [
              0,
              "#0d0887"
             ],
             [
              0.1111111111111111,
              "#46039f"
             ],
             [
              0.2222222222222222,
              "#7201a8"
             ],
             [
              0.3333333333333333,
              "#9c179e"
             ],
             [
              0.4444444444444444,
              "#bd3786"
             ],
             [
              0.5555555555555556,
              "#d8576b"
             ],
             [
              0.6666666666666666,
              "#ed7953"
             ],
             [
              0.7777777777777778,
              "#fb9f3a"
             ],
             [
              0.8888888888888888,
              "#fdca26"
             ],
             [
              1,
              "#f0f921"
             ]
            ],
            "type": "histogram2d"
           }
          ],
          "histogram2dcontour": [
           {
            "colorbar": {
             "outlinewidth": 0,
             "ticks": ""
            },
            "colorscale": [
             [
              0,
              "#0d0887"
             ],
             [
              0.1111111111111111,
              "#46039f"
             ],
             [
              0.2222222222222222,
              "#7201a8"
             ],
             [
              0.3333333333333333,
              "#9c179e"
             ],
             [
              0.4444444444444444,
              "#bd3786"
             ],
             [
              0.5555555555555556,
              "#d8576b"
             ],
             [
              0.6666666666666666,
              "#ed7953"
             ],
             [
              0.7777777777777778,
              "#fb9f3a"
             ],
             [
              0.8888888888888888,
              "#fdca26"
             ],
             [
              1,
              "#f0f921"
             ]
            ],
            "type": "histogram2dcontour"
           }
          ],
          "mesh3d": [
           {
            "colorbar": {
             "outlinewidth": 0,
             "ticks": ""
            },
            "type": "mesh3d"
           }
          ],
          "parcoords": [
           {
            "line": {
             "colorbar": {
              "outlinewidth": 0,
              "ticks": ""
             }
            },
            "type": "parcoords"
           }
          ],
          "pie": [
           {
            "automargin": true,
            "type": "pie"
           }
          ],
          "scatter": [
           {
            "fillpattern": {
             "fillmode": "overlay",
             "size": 10,
             "solidity": 0.2
            },
            "type": "scatter"
           }
          ],
          "scatter3d": [
           {
            "line": {
             "colorbar": {
              "outlinewidth": 0,
              "ticks": ""
             }
            },
            "marker": {
             "colorbar": {
              "outlinewidth": 0,
              "ticks": ""
             }
            },
            "type": "scatter3d"
           }
          ],
          "scattercarpet": [
           {
            "marker": {
             "colorbar": {
              "outlinewidth": 0,
              "ticks": ""
             }
            },
            "type": "scattercarpet"
           }
          ],
          "scattergeo": [
           {
            "marker": {
             "colorbar": {
              "outlinewidth": 0,
              "ticks": ""
             }
            },
            "type": "scattergeo"
           }
          ],
          "scattergl": [
           {
            "marker": {
             "colorbar": {
              "outlinewidth": 0,
              "ticks": ""
             }
            },
            "type": "scattergl"
           }
          ],
          "scattermapbox": [
           {
            "marker": {
             "colorbar": {
              "outlinewidth": 0,
              "ticks": ""
             }
            },
            "type": "scattermapbox"
           }
          ],
          "scatterpolar": [
           {
            "marker": {
             "colorbar": {
              "outlinewidth": 0,
              "ticks": ""
             }
            },
            "type": "scatterpolar"
           }
          ],
          "scatterpolargl": [
           {
            "marker": {
             "colorbar": {
              "outlinewidth": 0,
              "ticks": ""
             }
            },
            "type": "scatterpolargl"
           }
          ],
          "scatterternary": [
           {
            "marker": {
             "colorbar": {
              "outlinewidth": 0,
              "ticks": ""
             }
            },
            "type": "scatterternary"
           }
          ],
          "surface": [
           {
            "colorbar": {
             "outlinewidth": 0,
             "ticks": ""
            },
            "colorscale": [
             [
              0,
              "#0d0887"
             ],
             [
              0.1111111111111111,
              "#46039f"
             ],
             [
              0.2222222222222222,
              "#7201a8"
             ],
             [
              0.3333333333333333,
              "#9c179e"
             ],
             [
              0.4444444444444444,
              "#bd3786"
             ],
             [
              0.5555555555555556,
              "#d8576b"
             ],
             [
              0.6666666666666666,
              "#ed7953"
             ],
             [
              0.7777777777777778,
              "#fb9f3a"
             ],
             [
              0.8888888888888888,
              "#fdca26"
             ],
             [
              1,
              "#f0f921"
             ]
            ],
            "type": "surface"
           }
          ],
          "table": [
           {
            "cells": {
             "fill": {
              "color": "#EBF0F8"
             },
             "line": {
              "color": "white"
             }
            },
            "header": {
             "fill": {
              "color": "#C8D4E3"
             },
             "line": {
              "color": "white"
             }
            },
            "type": "table"
           }
          ]
         },
         "layout": {
          "annotationdefaults": {
           "arrowcolor": "#2a3f5f",
           "arrowhead": 0,
           "arrowwidth": 1
          },
          "autotypenumbers": "strict",
          "coloraxis": {
           "colorbar": {
            "outlinewidth": 0,
            "ticks": ""
           }
          },
          "colorscale": {
           "diverging": [
            [
             0,
             "#8e0152"
            ],
            [
             0.1,
             "#c51b7d"
            ],
            [
             0.2,
             "#de77ae"
            ],
            [
             0.3,
             "#f1b6da"
            ],
            [
             0.4,
             "#fde0ef"
            ],
            [
             0.5,
             "#f7f7f7"
            ],
            [
             0.6,
             "#e6f5d0"
            ],
            [
             0.7,
             "#b8e186"
            ],
            [
             0.8,
             "#7fbc41"
            ],
            [
             0.9,
             "#4d9221"
            ],
            [
             1,
             "#276419"
            ]
           ],
           "sequential": [
            [
             0,
             "#0d0887"
            ],
            [
             0.1111111111111111,
             "#46039f"
            ],
            [
             0.2222222222222222,
             "#7201a8"
            ],
            [
             0.3333333333333333,
             "#9c179e"
            ],
            [
             0.4444444444444444,
             "#bd3786"
            ],
            [
             0.5555555555555556,
             "#d8576b"
            ],
            [
             0.6666666666666666,
             "#ed7953"
            ],
            [
             0.7777777777777778,
             "#fb9f3a"
            ],
            [
             0.8888888888888888,
             "#fdca26"
            ],
            [
             1,
             "#f0f921"
            ]
           ],
           "sequentialminus": [
            [
             0,
             "#0d0887"
            ],
            [
             0.1111111111111111,
             "#46039f"
            ],
            [
             0.2222222222222222,
             "#7201a8"
            ],
            [
             0.3333333333333333,
             "#9c179e"
            ],
            [
             0.4444444444444444,
             "#bd3786"
            ],
            [
             0.5555555555555556,
             "#d8576b"
            ],
            [
             0.6666666666666666,
             "#ed7953"
            ],
            [
             0.7777777777777778,
             "#fb9f3a"
            ],
            [
             0.8888888888888888,
             "#fdca26"
            ],
            [
             1,
             "#f0f921"
            ]
           ]
          },
          "colorway": [
           "#636efa",
           "#EF553B",
           "#00cc96",
           "#ab63fa",
           "#FFA15A",
           "#19d3f3",
           "#FF6692",
           "#B6E880",
           "#FF97FF",
           "#FECB52"
          ],
          "font": {
           "color": "#2a3f5f"
          },
          "geo": {
           "bgcolor": "white",
           "lakecolor": "white",
           "landcolor": "#E5ECF6",
           "showlakes": true,
           "showland": true,
           "subunitcolor": "white"
          },
          "hoverlabel": {
           "align": "left"
          },
          "hovermode": "closest",
          "mapbox": {
           "style": "light"
          },
          "paper_bgcolor": "white",
          "plot_bgcolor": "#E5ECF6",
          "polar": {
           "angularaxis": {
            "gridcolor": "white",
            "linecolor": "white",
            "ticks": ""
           },
           "bgcolor": "#E5ECF6",
           "radialaxis": {
            "gridcolor": "white",
            "linecolor": "white",
            "ticks": ""
           }
          },
          "scene": {
           "xaxis": {
            "backgroundcolor": "#E5ECF6",
            "gridcolor": "white",
            "gridwidth": 2,
            "linecolor": "white",
            "showbackground": true,
            "ticks": "",
            "zerolinecolor": "white"
           },
           "yaxis": {
            "backgroundcolor": "#E5ECF6",
            "gridcolor": "white",
            "gridwidth": 2,
            "linecolor": "white",
            "showbackground": true,
            "ticks": "",
            "zerolinecolor": "white"
           },
           "zaxis": {
            "backgroundcolor": "#E5ECF6",
            "gridcolor": "white",
            "gridwidth": 2,
            "linecolor": "white",
            "showbackground": true,
            "ticks": "",
            "zerolinecolor": "white"
           }
          },
          "shapedefaults": {
           "line": {
            "color": "#2a3f5f"
           }
          },
          "ternary": {
           "aaxis": {
            "gridcolor": "white",
            "linecolor": "white",
            "ticks": ""
           },
           "baxis": {
            "gridcolor": "white",
            "linecolor": "white",
            "ticks": ""
           },
           "bgcolor": "#E5ECF6",
           "caxis": {
            "gridcolor": "white",
            "linecolor": "white",
            "ticks": ""
           }
          },
          "title": {
           "x": 0.05
          },
          "xaxis": {
           "automargin": true,
           "gridcolor": "white",
           "linecolor": "white",
           "ticks": "",
           "title": {
            "standoff": 15
           },
           "zerolinecolor": "white",
           "zerolinewidth": 2
          },
          "yaxis": {
           "automargin": true,
           "gridcolor": "white",
           "linecolor": "white",
           "ticks": "",
           "title": {
            "standoff": 15
           },
           "zerolinecolor": "white",
           "zerolinewidth": 2
          }
         }
        },
        "title": {
         "text": "Sales by Product and Category"
        },
        "xaxis": {
         "title": {
          "text": "Sales"
         }
        },
        "yaxis": {
         "title": {
          "text": "Product"
         }
        }
       }
      }
     },
     "metadata": {},
     "output_type": "display_data"
    }
   ],
   "source": [
    "\n",
    "\n",
    "col_keep = [\"ProductCategoryName\",\"TotalPrice\",'UnitOfMeasureName']\n",
    "# Assuming df_recreational and df_medical are your dataframes\n",
    "df_medical1 = Med_use_df.drop(Med_use_df.columns.difference(col_keep),axis = 1)\n",
    "col_keep1 = [\"ProductCategoryName\",\"TotalPrice\",'UnitOfMeasureName']\n",
    "df_recreational1 = rec_use_df.drop(rec_use_df.columns.difference(col_keep1),axis = 1)\n",
    "df_medical = df_medical1.groupby(['ProductCategoryName','UnitOfMeasureName']).agg({'TotalPrice': 'sum'}).reset_index()\n",
    "df_recreational = df_recreational1.groupby([\"ProductCategoryName\",'UnitOfMeasureName']).agg({'TotalPrice': 'sum'}).reset_index()\n",
    "fig = go.Figure()\n",
    "fig.add_trace(go.Bar(\n",
    "    y=df_recreational['ProductCategoryName'],\n",
    "    x=df_recreational['TotalPrice'],\n",
    "    name='Recreational',\n",
    "    orientation='h',\n",
    "    marker=dict(color='blue')\n",
    "))\n",
    "\n",
    "fig.add_trace(go.Bar(\n",
    "    y=df_medical['ProductCategoryName'],\n",
    "    x=df_medical['TotalPrice'],\n",
    "    name='Medical',\n",
    "    orientation='h',\n",
    "    marker=dict(color='green')\n",
    "))\n",
    "\n",
    "fig.update_layout(barmode='stack',  # Use 'group' for side-by-side bars\n",
    "                  title='Sales by Product and Category',\n",
    "                  xaxis_title='Sales',\n",
    "                  yaxis_title='Product')\n",
    "\n",
    "fig.show()"
   ]
  },
  {
   "cell_type": "code",
   "execution_count": 20,
   "metadata": {},
   "outputs": [],
   "source": [
    "## Bokeh\n",
    "df_combined = pd.concat([df_medical, df_recreational])\n",
    "\n",
    "# Create a Bokeh ColumnDataSource\n",
    "source = ColumnDataSource(df_combined)\n",
    "\n",
    "# Create a figure with a background image\n",
    "p = figure(y_range=df_combined['ProductCategoryName'].unique(),\n",
    "           height=400, width=700,\n",
    "           title=\"Sales by Product and Category\",\n",
    "           x_axis_label='Sales', y_axis_label='Product',\n",
    "           toolbar_location=None, tools=\"\")\n",
    "\n",
    "# Define colors for the bars\n",
    "colors = Category20[20][:len(df_combined['UnitOfMeasureName'].unique())]\n",
    "\n",
    "# Plot the bars\n",
    "p.hbar(y=dodge('ProductCategoryName', -0.15, range=p.y_range), right='TotalPrice', height=0.3,\n",
    "       source=source, color=colors[0], legend_label='Medical')\n",
    "\n",
    "p.hbar(y=dodge('ProductCategoryName', 0.15, range=p.y_range), right='TotalPrice', height=0.3,\n",
    "       source=source, color=colors[1], legend_label='Recreational')\n",
    "\n",
    "# Show the plot\n",
    "show(p)"
   ]
  },
  {
   "cell_type": "code",
   "execution_count": 21,
   "metadata": {},
   "outputs": [
    {
     "data": {
      "image/png": "[encoded data removed]",
      "text/plain": [
       "<Figure size 1000x600 with 1 Axes>"
      ]
     },
     "metadata": {},
     "output_type": "display_data"
    }
   ],
   "source": [
    "import seaborn as sns\n",
    "import matplotlib.pyplot as plt\n",
    "\n",
    "# Combine the dataframes\n",
    "df_combined = pd.concat([df_medical, df_recreational])\n",
    "\n",
    "# Create the stacked bar chart\n",
    "plt.figure(figsize=(10, 6))\n",
    "sns.barplot(x='TotalPrice', y='ProductCategoryName',  data=df_combined, orient='h', palette='tab20')\n",
    "\n",
    "# Add labels and title\n",
    "plt.xlabel('Sales')\n",
    "plt.ylabel('Product')\n",
    "plt.title('Sales by Product and Category')\n",
    "\n",
    "# Show the plot\n",
    "plt.show()"
   ]
  }
 ],
 "metadata": {
  "anaconda-cloud": {},
  "kernelspec": {
   "display_name": "Python 3 (ipykernel)",
   "language": "python",
   "name": "python3"
  },
  "language_info": {
   "codemirror_mode": {
    "name": "ipython",
    "version": 3
   },
   "file_extension": ".py",
   "mimetype": "text/x-python",
   "name": "python",
   "nbconvert_exporter": "python",
   "pygments_lexer": "ipython3",
   "version": "3.10.13"
  }
 },
 "nbformat": 4,
 "nbformat_minor": 2
}

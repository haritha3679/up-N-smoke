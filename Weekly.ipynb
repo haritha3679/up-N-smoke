{
 "cells": [
  {
   "cell_type": "code",
   "execution_count": 12,
   "metadata": {},
   "outputs": [],
   "source": [
    "# Dependencies\n",
    "import pandas as pd\n",
    "from pathlib import Path\n",
    "import numpy as np\n",
    "import plotly.graph_objects as go\n",
    "from ipywidgets import widgets\n",
    "import seaborn as sns\n",
    "import plotly.express as px\n"
   ]
  },
  {
   "cell_type": "code",
   "execution_count": 13,
   "metadata": {},
   "outputs": [],
   "source": [
    "# Store filepath in a variable\n",
    "weekly_use = Path(\"data/MA/MA_Weekly_sales.csv\")\n"
   ]
  },
  {
   "cell_type": "code",
   "execution_count": 14,
   "metadata": {},
   "outputs": [],
   "source": [
    "# Read our data file with the Pandas library\n",
    "# Not every CSV requires an encoding, but be aware this can come up\n",
    "weekly_use_df = pd.read_csv(weekly_use, encoding=\"ISO-8859-1\")\n"
   ]
  },
  {
   "cell_type": "code",
   "execution_count": 15,
   "metadata": {},
   "outputs": [
    {
     "data": {
      "text/html": [
       "<div>\n",
       "<style scoped>\n",
       "    .dataframe tbody tr th:only-of-type {\n",
       "        vertical-align: middle;\n",
       "    }\n",
       "\n",
       "    .dataframe tbody tr th {\n",
       "        vertical-align: top;\n",
       "    }\n",
       "\n",
       "    .dataframe thead th {\n",
       "        text-align: right;\n",
       "    }\n",
       "</style>\n",
       "<table border=\"1\" class=\"dataframe\">\n",
       "  <thead>\n",
       "    <tr style=\"text-align: right;\">\n",
       "      <th></th>\n",
       "      <th>ï»¿SaleDate</th>\n",
       "      <th>ProductCategoryName</th>\n",
       "      <th>UnitOfMeasureName</th>\n",
       "      <th>TotalPrice</th>\n",
       "      <th>CountBasedTotal</th>\n",
       "      <th>DollarCountBasedTotal</th>\n",
       "      <th>WeightBasedTotal</th>\n",
       "      <th>DollarWeightBasedTotal</th>\n",
       "      <th>Quantity</th>\n",
       "      <th>CCCLastUpdated</th>\n",
       "    </tr>\n",
       "  </thead>\n",
       "  <tbody>\n",
       "    <tr>\n",
       "      <th>0</th>\n",
       "      <td>4/6/2024</td>\n",
       "      <td>Concentrate</td>\n",
       "      <td>Grams</td>\n",
       "      <td>32367.39</td>\n",
       "      <td>0</td>\n",
       "      <td>0.0</td>\n",
       "      <td>1196.40</td>\n",
       "      <td>32367.39</td>\n",
       "      <td>1196.40</td>\n",
       "      <td>4/8/2024</td>\n",
       "    </tr>\n",
       "    <tr>\n",
       "      <th>1</th>\n",
       "      <td>4/4/2024</td>\n",
       "      <td>Suppository</td>\n",
       "      <td>Each</td>\n",
       "      <td>12.00</td>\n",
       "      <td>1</td>\n",
       "      <td>12.0</td>\n",
       "      <td>0.00</td>\n",
       "      <td>0.00</td>\n",
       "      <td>1.00</td>\n",
       "      <td>4/8/2024</td>\n",
       "    </tr>\n",
       "    <tr>\n",
       "      <th>2</th>\n",
       "      <td>4/6/2024</td>\n",
       "      <td>Suppository</td>\n",
       "      <td>Each</td>\n",
       "      <td>120.00</td>\n",
       "      <td>10</td>\n",
       "      <td>120.0</td>\n",
       "      <td>0.00</td>\n",
       "      <td>0.00</td>\n",
       "      <td>10.00</td>\n",
       "      <td>4/8/2024</td>\n",
       "    </tr>\n",
       "    <tr>\n",
       "      <th>3</th>\n",
       "      <td>4/3/2024</td>\n",
       "      <td>Raw Pre-Rolls</td>\n",
       "      <td>Milligrams</td>\n",
       "      <td>64.56</td>\n",
       "      <td>0</td>\n",
       "      <td>0.0</td>\n",
       "      <td>8000.00</td>\n",
       "      <td>64.56</td>\n",
       "      <td>8000.00</td>\n",
       "      <td>4/8/2024</td>\n",
       "    </tr>\n",
       "    <tr>\n",
       "      <th>4</th>\n",
       "      <td>4/5/2024</td>\n",
       "      <td>Buds</td>\n",
       "      <td>Grams</td>\n",
       "      <td>2385342.22</td>\n",
       "      <td>0</td>\n",
       "      <td>0.0</td>\n",
       "      <td>440669.14</td>\n",
       "      <td>2385342.22</td>\n",
       "      <td>440669.14</td>\n",
       "      <td>4/8/2024</td>\n",
       "    </tr>\n",
       "  </tbody>\n",
       "</table>\n",
       "</div>"
      ],
      "text/plain": [
       "  ï»¿SaleDate ProductCategoryName UnitOfMeasureName  TotalPrice  \\\n",
       "0    4/6/2024         Concentrate             Grams    32367.39   \n",
       "1    4/4/2024         Suppository              Each       12.00   \n",
       "2    4/6/2024         Suppository              Each      120.00   \n",
       "3    4/3/2024       Raw Pre-Rolls        Milligrams       64.56   \n",
       "4    4/5/2024                Buds             Grams  2385342.22   \n",
       "\n",
       "   CountBasedTotal  DollarCountBasedTotal  WeightBasedTotal  \\\n",
       "0                0                    0.0           1196.40   \n",
       "1                1                   12.0              0.00   \n",
       "2               10                  120.0              0.00   \n",
       "3                0                    0.0           8000.00   \n",
       "4                0                    0.0         440669.14   \n",
       "\n",
       "   DollarWeightBasedTotal   Quantity CCCLastUpdated  \n",
       "0                32367.39    1196.40       4/8/2024  \n",
       "1                    0.00       1.00       4/8/2024  \n",
       "2                    0.00      10.00       4/8/2024  \n",
       "3                   64.56    8000.00       4/8/2024  \n",
       "4              2385342.22  440669.14       4/8/2024  "
      ]
     },
     "execution_count": 15,
     "metadata": {},
     "output_type": "execute_result"
    }
   ],
   "source": [
    "# Show the first five rows.\n",
    "weekly_use_df.head()"
   ]
  },
  {
   "cell_type": "markdown",
   "metadata": {},
   "source": []
  },
  {
   "cell_type": "code",
   "execution_count": 16,
   "metadata": {},
   "outputs": [
    {
     "data": {
      "text/plain": [
       "Index(['ï»¿SaleDate', 'ProductCategoryName', 'UnitOfMeasureName', 'TotalPrice',\n",
       "       'CountBasedTotal', 'DollarCountBasedTotal', 'WeightBasedTotal',\n",
       "       'DollarWeightBasedTotal', 'Quantity', 'CCCLastUpdated'],\n",
       "      dtype='object')"
      ]
     },
     "execution_count": 16,
     "metadata": {},
     "output_type": "execute_result"
    }
   ],
   "source": [
    "# Show a single column\n",
    "weekly_use_df.columns"
   ]
  },
  {
   "cell_type": "code",
   "execution_count": 17,
   "metadata": {},
   "outputs": [
    {
     "data": {
      "text/plain": [
       "Index(['date', 'ProductCategoryName', 'UnitOfMeasureName', 'TotalPrice',\n",
       "       'CountBasedTotal', 'DollarCountBasedTotal', 'WeightBasedTotal',\n",
       "       'DollarWeightBasedTotal', 'Quantity', 'CCCLastUpdated'],\n",
       "      dtype='object')"
      ]
     },
     "execution_count": 17,
     "metadata": {},
     "output_type": "execute_result"
    }
   ],
   "source": [
    "weekly_use_df.rename(columns={ \n",
    "    \"ï»¿SaleDate\": 'date'\n",
    "},inplace=True)\n",
    "weekly_use_df.columns"
   ]
  },
  {
   "cell_type": "code",
   "execution_count": 18,
   "metadata": {},
   "outputs": [
    {
     "data": {
      "text/html": [
       "<div>\n",
       "<style scoped>\n",
       "    .dataframe tbody tr th:only-of-type {\n",
       "        vertical-align: middle;\n",
       "    }\n",
       "\n",
       "    .dataframe tbody tr th {\n",
       "        vertical-align: top;\n",
       "    }\n",
       "\n",
       "    .dataframe thead th {\n",
       "        text-align: right;\n",
       "    }\n",
       "</style>\n",
       "<table border=\"1\" class=\"dataframe\">\n",
       "  <thead>\n",
       "    <tr style=\"text-align: right;\">\n",
       "      <th></th>\n",
       "      <th>date</th>\n",
       "      <th>ProductCategoryName</th>\n",
       "      <th>TotalPrice</th>\n",
       "    </tr>\n",
       "  </thead>\n",
       "  <tbody>\n",
       "    <tr>\n",
       "      <th>0</th>\n",
       "      <td>4/6/2024</td>\n",
       "      <td>Concentrate</td>\n",
       "      <td>32367.39</td>\n",
       "    </tr>\n",
       "    <tr>\n",
       "      <th>1</th>\n",
       "      <td>4/4/2024</td>\n",
       "      <td>Suppository</td>\n",
       "      <td>12.00</td>\n",
       "    </tr>\n",
       "    <tr>\n",
       "      <th>2</th>\n",
       "      <td>4/6/2024</td>\n",
       "      <td>Suppository</td>\n",
       "      <td>120.00</td>\n",
       "    </tr>\n",
       "    <tr>\n",
       "      <th>3</th>\n",
       "      <td>4/3/2024</td>\n",
       "      <td>Raw Pre-Rolls</td>\n",
       "      <td>64.56</td>\n",
       "    </tr>\n",
       "    <tr>\n",
       "      <th>4</th>\n",
       "      <td>4/5/2024</td>\n",
       "      <td>Buds</td>\n",
       "      <td>2385342.22</td>\n",
       "    </tr>\n",
       "    <tr>\n",
       "      <th>...</th>\n",
       "      <td>...</td>\n",
       "      <td>...</td>\n",
       "      <td>...</td>\n",
       "    </tr>\n",
       "    <tr>\n",
       "      <th>127</th>\n",
       "      <td>4/7/2024</td>\n",
       "      <td>Buds</td>\n",
       "      <td>256.50</td>\n",
       "    </tr>\n",
       "    <tr>\n",
       "      <th>128</th>\n",
       "      <td>4/2/2024</td>\n",
       "      <td>Concentrate</td>\n",
       "      <td>26228.10</td>\n",
       "    </tr>\n",
       "    <tr>\n",
       "      <th>129</th>\n",
       "      <td>4/4/2024</td>\n",
       "      <td>Concentrate</td>\n",
       "      <td>27528.86</td>\n",
       "    </tr>\n",
       "    <tr>\n",
       "      <th>130</th>\n",
       "      <td>4/6/2024</td>\n",
       "      <td>Raw Pre-Rolls</td>\n",
       "      <td>91.63</td>\n",
       "    </tr>\n",
       "    <tr>\n",
       "      <th>131</th>\n",
       "      <td>4/5/2024</td>\n",
       "      <td>Concentrate</td>\n",
       "      <td>33576.31</td>\n",
       "    </tr>\n",
       "  </tbody>\n",
       "</table>\n",
       "<p>132 rows × 3 columns</p>\n",
       "</div>"
      ],
      "text/plain": [
       "         date ProductCategoryName  TotalPrice\n",
       "0    4/6/2024         Concentrate    32367.39\n",
       "1    4/4/2024         Suppository       12.00\n",
       "2    4/6/2024         Suppository      120.00\n",
       "3    4/3/2024       Raw Pre-Rolls       64.56\n",
       "4    4/5/2024                Buds  2385342.22\n",
       "..        ...                 ...         ...\n",
       "127  4/7/2024                Buds      256.50\n",
       "128  4/2/2024         Concentrate    26228.10\n",
       "129  4/4/2024         Concentrate    27528.86\n",
       "130  4/6/2024       Raw Pre-Rolls       91.63\n",
       "131  4/5/2024         Concentrate    33576.31\n",
       "\n",
       "[132 rows x 3 columns]"
      ]
     },
     "execution_count": 18,
     "metadata": {},
     "output_type": "execute_result"
    }
   ],
   "source": [
    "\n",
    "source_df = weekly_use_df\n",
    "col_keep = [\"date\",\"ProductCategoryName\",\"TotalPrice\"]\n",
    "source_df = weekly_use_df.drop(weekly_use_df.columns.difference(col_keep),axis = 1)\n",
    "source_df  \n"
   ]
  },
  {
   "cell_type": "code",
   "execution_count": 19,
   "metadata": {},
   "outputs": [
    {
     "data": {
      "text/html": [
       "<div>\n",
       "<style scoped>\n",
       "    .dataframe tbody tr th:only-of-type {\n",
       "        vertical-align: middle;\n",
       "    }\n",
       "\n",
       "    .dataframe tbody tr th {\n",
       "        vertical-align: top;\n",
       "    }\n",
       "\n",
       "    .dataframe thead th {\n",
       "        text-align: right;\n",
       "    }\n",
       "</style>\n",
       "<table border=\"1\" class=\"dataframe\">\n",
       "  <thead>\n",
       "    <tr style=\"text-align: right;\">\n",
       "      <th></th>\n",
       "      <th>date</th>\n",
       "      <th>ProductCategoryName</th>\n",
       "      <th>TotalPrice</th>\n",
       "    </tr>\n",
       "  </thead>\n",
       "  <tbody>\n",
       "    <tr>\n",
       "      <th>0</th>\n",
       "      <td>4/1/2024</td>\n",
       "      <td>Buds</td>\n",
       "      <td>1743607.0</td>\n",
       "    </tr>\n",
       "    <tr>\n",
       "      <th>1</th>\n",
       "      <td>4/1/2024</td>\n",
       "      <td>Concentrate</td>\n",
       "      <td>25209.0</td>\n",
       "    </tr>\n",
       "    <tr>\n",
       "      <th>2</th>\n",
       "      <td>4/1/2024</td>\n",
       "      <td>Concentrate (Bulk)</td>\n",
       "      <td>355.0</td>\n",
       "    </tr>\n",
       "    <tr>\n",
       "      <th>3</th>\n",
       "      <td>4/1/2024</td>\n",
       "      <td>Concentrate (Each)</td>\n",
       "      <td>177008.0</td>\n",
       "    </tr>\n",
       "    <tr>\n",
       "      <th>4</th>\n",
       "      <td>4/1/2024</td>\n",
       "      <td>Infused (edible)</td>\n",
       "      <td>443236.0</td>\n",
       "    </tr>\n",
       "    <tr>\n",
       "      <th>...</th>\n",
       "      <td>...</td>\n",
       "      <td>...</td>\n",
       "      <td>...</td>\n",
       "    </tr>\n",
       "    <tr>\n",
       "      <th>105</th>\n",
       "      <td>4/7/2024</td>\n",
       "      <td>Seeds</td>\n",
       "      <td>797.0</td>\n",
       "    </tr>\n",
       "    <tr>\n",
       "      <th>106</th>\n",
       "      <td>4/7/2024</td>\n",
       "      <td>Shake/Trim</td>\n",
       "      <td>37032.0</td>\n",
       "    </tr>\n",
       "    <tr>\n",
       "      <th>107</th>\n",
       "      <td>4/7/2024</td>\n",
       "      <td>Shake/Trim (by strain)</td>\n",
       "      <td>98397.0</td>\n",
       "    </tr>\n",
       "    <tr>\n",
       "      <th>108</th>\n",
       "      <td>4/7/2024</td>\n",
       "      <td>Suppository</td>\n",
       "      <td>24.0</td>\n",
       "    </tr>\n",
       "    <tr>\n",
       "      <th>109</th>\n",
       "      <td>4/7/2024</td>\n",
       "      <td>Vape Product</td>\n",
       "      <td>783153.0</td>\n",
       "    </tr>\n",
       "  </tbody>\n",
       "</table>\n",
       "<p>110 rows × 3 columns</p>\n",
       "</div>"
      ],
      "text/plain": [
       "         date     ProductCategoryName  TotalPrice\n",
       "0    4/1/2024                    Buds   1743607.0\n",
       "1    4/1/2024             Concentrate     25209.0\n",
       "2    4/1/2024      Concentrate (Bulk)       355.0\n",
       "3    4/1/2024      Concentrate (Each)    177008.0\n",
       "4    4/1/2024        Infused (edible)    443236.0\n",
       "..        ...                     ...         ...\n",
       "105  4/7/2024                   Seeds       797.0\n",
       "106  4/7/2024              Shake/Trim     37032.0\n",
       "107  4/7/2024  Shake/Trim (by strain)     98397.0\n",
       "108  4/7/2024             Suppository        24.0\n",
       "109  4/7/2024            Vape Product    783153.0\n",
       "\n",
       "[110 rows x 3 columns]"
      ]
     },
     "execution_count": 19,
     "metadata": {},
     "output_type": "execute_result"
    }
   ],
   "source": [
    "sorted_df = source_df.sort_values(by=['date','ProductCategoryName'])\n",
    "#cumulative_df = sorted_df\n",
    "#cumulative_df = source_df.groupby('ProductCategoryName')['TotalPrice'].cumsum().reset_index(name='Cumulative_Value')\n",
    "#cumulative_df['Cumulative_Value'] = cumulative_df.groupby('ProductCategoryName')['TotalPrice'].cumsum()\n",
    "#cumulative_df['Cumulative_Value'] = sorted_df.groupby('ProductCategoryName')['TotalPrice'].transform(pd.Series.cumsum)\n",
    "cumulative_df = sorted_df.groupby(['date','ProductCategoryName']).agg({'TotalPrice': 'sum'}).reset_index()\n",
    "cumulative_df['TotalPrice'] = cumulative_df['TotalPrice'].round(0)\n",
    "cumulative_df"
   ]
  },
  {
   "cell_type": "code",
   "execution_count": 20,
   "metadata": {},
   "outputs": [
    {
     "data": {
      "text/html": [
       "<div>\n",
       "<style scoped>\n",
       "    .dataframe tbody tr th:only-of-type {\n",
       "        vertical-align: middle;\n",
       "    }\n",
       "\n",
       "    .dataframe tbody tr th {\n",
       "        vertical-align: top;\n",
       "    }\n",
       "\n",
       "    .dataframe thead th {\n",
       "        text-align: right;\n",
       "    }\n",
       "</style>\n",
       "<table border=\"1\" class=\"dataframe\">\n",
       "  <thead>\n",
       "    <tr style=\"text-align: right;\">\n",
       "      <th></th>\n",
       "      <th>date</th>\n",
       "      <th>ProductCategoryName</th>\n",
       "      <th>TotalPrice</th>\n",
       "    </tr>\n",
       "  </thead>\n",
       "  <tbody>\n",
       "    <tr>\n",
       "      <th>61</th>\n",
       "      <td>4/5/2024</td>\n",
       "      <td>Buds</td>\n",
       "      <td>2389197.0</td>\n",
       "    </tr>\n",
       "    <tr>\n",
       "      <th>77</th>\n",
       "      <td>4/6/2024</td>\n",
       "      <td>Buds</td>\n",
       "      <td>2077191.0</td>\n",
       "    </tr>\n",
       "    <tr>\n",
       "      <th>30</th>\n",
       "      <td>4/3/2024</td>\n",
       "      <td>Buds</td>\n",
       "      <td>1798737.0</td>\n",
       "    </tr>\n",
       "    <tr>\n",
       "      <th>0</th>\n",
       "      <td>4/1/2024</td>\n",
       "      <td>Buds</td>\n",
       "      <td>1743607.0</td>\n",
       "    </tr>\n",
       "    <tr>\n",
       "      <th>46</th>\n",
       "      <td>4/4/2024</td>\n",
       "      <td>Buds</td>\n",
       "      <td>1712777.0</td>\n",
       "    </tr>\n",
       "    <tr>\n",
       "      <th>...</th>\n",
       "      <td>...</td>\n",
       "      <td>...</td>\n",
       "      <td>...</td>\n",
       "    </tr>\n",
       "    <tr>\n",
       "      <th>39</th>\n",
       "      <td>4/3/2024</td>\n",
       "      <td>Kief</td>\n",
       "      <td>1189.0</td>\n",
       "    </tr>\n",
       "    <tr>\n",
       "      <th>23</th>\n",
       "      <td>4/2/2024</td>\n",
       "      <td>Kief</td>\n",
       "      <td>1100.0</td>\n",
       "    </tr>\n",
       "    <tr>\n",
       "      <th>89</th>\n",
       "      <td>4/6/2024</td>\n",
       "      <td>Seeds</td>\n",
       "      <td>878.0</td>\n",
       "    </tr>\n",
       "    <tr>\n",
       "      <th>98</th>\n",
       "      <td>4/7/2024</td>\n",
       "      <td>Immature Plants</td>\n",
       "      <td>867.0</td>\n",
       "    </tr>\n",
       "    <tr>\n",
       "      <th>17</th>\n",
       "      <td>4/2/2024</td>\n",
       "      <td>Concentrate (Bulk)</td>\n",
       "      <td>825.0</td>\n",
       "    </tr>\n",
       "  </tbody>\n",
       "</table>\n",
       "<p>90 rows × 3 columns</p>\n",
       "</div>"
      ],
      "text/plain": [
       "        date ProductCategoryName  TotalPrice\n",
       "61  4/5/2024                Buds   2389197.0\n",
       "77  4/6/2024                Buds   2077191.0\n",
       "30  4/3/2024                Buds   1798737.0\n",
       "0   4/1/2024                Buds   1743607.0\n",
       "46  4/4/2024                Buds   1712777.0\n",
       "..       ...                 ...         ...\n",
       "39  4/3/2024                Kief      1189.0\n",
       "23  4/2/2024                Kief      1100.0\n",
       "89  4/6/2024               Seeds       878.0\n",
       "98  4/7/2024     Immature Plants       867.0\n",
       "17  4/2/2024  Concentrate (Bulk)       825.0\n",
       "\n",
       "[90 rows x 3 columns]"
      ]
     },
     "execution_count": 20,
     "metadata": {},
     "output_type": "execute_result"
    }
   ],
   "source": [
    "sort_df=cumulative_df.sort_values(by='TotalPrice',ascending = False)\n",
    "filtered_df = cumulative_df[cumulative_df['TotalPrice']>5000]\n",
    "sort_df.head(90)"
   ]
  },
  {
   "cell_type": "code",
   "execution_count": 21,
   "metadata": {},
   "outputs": [
    {
     "data": {
      "application/vnd.plotly.v1+json": {
       "config": {
        "plotlyServerURL": "https://plot.ly"
       },
       "data": [
        {
         "alignmentgroup": "True",
         "hovertemplate": "=%{x}<br>Date=4/1/2024<br>Total Sales (USD)=%{y}<extra></extra>",
         "legendgroup": "Buds",
         "marker": {
          "color": "#636efa",
          "pattern": {
           "shape": ""
          }
         },
         "name": "Buds",
         "offsetgroup": "Buds",
         "orientation": "v",
         "showlegend": true,
         "textposition": "auto",
         "type": "bar",
         "x": [
          "Buds"
         ],
         "xaxis": "x",
         "y": [
          1743607
         ],
         "yaxis": "y"
        },
        {
         "alignmentgroup": "True",
         "hovertemplate": "=%{x}<br>Date=4/2/2024<br>Total Sales (USD)=%{y}<extra></extra>",
         "legendgroup": "Buds",
         "marker": {
          "color": "#636efa",
          "pattern": {
           "shape": ""
          }
         },
         "name": "Buds",
         "offsetgroup": "Buds",
         "orientation": "v",
         "showlegend": false,
         "textposition": "auto",
         "type": "bar",
         "x": [
          "Buds"
         ],
         "xaxis": "x2",
         "y": [
          1653518
         ],
         "yaxis": "y2"
        },
        {
         "alignmentgroup": "True",
         "hovertemplate": "=%{x}<br>Date=4/3/2024<br>Total Sales (USD)=%{y}<extra></extra>",
         "legendgroup": "Buds",
         "marker": {
          "color": "#636efa",
          "pattern": {
           "shape": ""
          }
         },
         "name": "Buds",
         "offsetgroup": "Buds",
         "orientation": "v",
         "showlegend": false,
         "textposition": "auto",
         "type": "bar",
         "x": [
          "Buds"
         ],
         "xaxis": "x3",
         "y": [
          1798737
         ],
         "yaxis": "y3"
        },
        {
         "alignmentgroup": "True",
         "hovertemplate": "=%{x}<br>Date=4/4/2024<br>Total Sales (USD)=%{y}<extra></extra>",
         "legendgroup": "Buds",
         "marker": {
          "color": "#636efa",
          "pattern": {
           "shape": ""
          }
         },
         "name": "Buds",
         "offsetgroup": "Buds",
         "orientation": "v",
         "showlegend": false,
         "textposition": "auto",
         "type": "bar",
         "x": [
          "Buds"
         ],
         "xaxis": "x4",
         "y": [
          1712777
         ],
         "yaxis": "y4"
        },
        {
         "alignmentgroup": "True",
         "hovertemplate": "=%{x}<br>Date=4/5/2024<br>Total Sales (USD)=%{y}<extra></extra>",
         "legendgroup": "Buds",
         "marker": {
          "color": "#636efa",
          "pattern": {
           "shape": ""
          }
         },
         "name": "Buds",
         "offsetgroup": "Buds",
         "orientation": "v",
         "showlegend": false,
         "textposition": "auto",
         "type": "bar",
         "x": [
          "Buds"
         ],
         "xaxis": "x5",
         "y": [
          2389197
         ],
         "yaxis": "y5"
        },
        {
         "alignmentgroup": "True",
         "hovertemplate": "=%{x}<br>Date=4/6/2024<br>Total Sales (USD)=%{y}<extra></extra>",
         "legendgroup": "Buds",
         "marker": {
          "color": "#636efa",
          "pattern": {
           "shape": ""
          }
         },
         "name": "Buds",
         "offsetgroup": "Buds",
         "orientation": "v",
         "showlegend": false,
         "textposition": "auto",
         "type": "bar",
         "x": [
          "Buds"
         ],
         "xaxis": "x6",
         "y": [
          2077191
         ],
         "yaxis": "y6"
        },
        {
         "alignmentgroup": "True",
         "hovertemplate": "=%{x}<br>Date=4/7/2024<br>Total Sales (USD)=%{y}<extra></extra>",
         "legendgroup": "Buds",
         "marker": {
          "color": "#636efa",
          "pattern": {
           "shape": ""
          }
         },
         "name": "Buds",
         "offsetgroup": "Buds",
         "orientation": "v",
         "showlegend": false,
         "textposition": "auto",
         "type": "bar",
         "x": [
          "Buds"
         ],
         "xaxis": "x7",
         "y": [
          1637524
         ],
         "yaxis": "y7"
        },
        {
         "alignmentgroup": "True",
         "hovertemplate": "=%{x}<br>Date=4/1/2024<br>Total Sales (USD)=%{y}<extra></extra>",
         "legendgroup": "Concentrate",
         "marker": {
          "color": "#EF553B",
          "pattern": {
           "shape": ""
          }
         },
         "name": "Concentrate",
         "offsetgroup": "Concentrate",
         "orientation": "v",
         "showlegend": true,
         "textposition": "auto",
         "type": "bar",
         "x": [
          "Concentrate"
         ],
         "xaxis": "x",
         "y": [
          25209
         ],
         "yaxis": "y"
        },
        {
         "alignmentgroup": "True",
         "hovertemplate": "=%{x}<br>Date=4/2/2024<br>Total Sales (USD)=%{y}<extra></extra>",
         "legendgroup": "Concentrate",
         "marker": {
          "color": "#EF553B",
          "pattern": {
           "shape": ""
          }
         },
         "name": "Concentrate",
         "offsetgroup": "Concentrate",
         "orientation": "v",
         "showlegend": false,
         "textposition": "auto",
         "type": "bar",
         "x": [
          "Concentrate"
         ],
         "xaxis": "x2",
         "y": [
          26228
         ],
         "yaxis": "y2"
        },
        {
         "alignmentgroup": "True",
         "hovertemplate": "=%{x}<br>Date=4/3/2024<br>Total Sales (USD)=%{y}<extra></extra>",
         "legendgroup": "Concentrate",
         "marker": {
          "color": "#EF553B",
          "pattern": {
           "shape": ""
          }
         },
         "name": "Concentrate",
         "offsetgroup": "Concentrate",
         "orientation": "v",
         "showlegend": false,
         "textposition": "auto",
         "type": "bar",
         "x": [
          "Concentrate"
         ],
         "xaxis": "x3",
         "y": [
          31489
         ],
         "yaxis": "y3"
        },
        {
         "alignmentgroup": "True",
         "hovertemplate": "=%{x}<br>Date=4/4/2024<br>Total Sales (USD)=%{y}<extra></extra>",
         "legendgroup": "Concentrate",
         "marker": {
          "color": "#EF553B",
          "pattern": {
           "shape": ""
          }
         },
         "name": "Concentrate",
         "offsetgroup": "Concentrate",
         "orientation": "v",
         "showlegend": false,
         "textposition": "auto",
         "type": "bar",
         "x": [
          "Concentrate"
         ],
         "xaxis": "x4",
         "y": [
          27529
         ],
         "yaxis": "y4"
        },
        {
         "alignmentgroup": "True",
         "hovertemplate": "=%{x}<br>Date=4/5/2024<br>Total Sales (USD)=%{y}<extra></extra>",
         "legendgroup": "Concentrate",
         "marker": {
          "color": "#EF553B",
          "pattern": {
           "shape": ""
          }
         },
         "name": "Concentrate",
         "offsetgroup": "Concentrate",
         "orientation": "v",
         "showlegend": false,
         "textposition": "auto",
         "type": "bar",
         "x": [
          "Concentrate"
         ],
         "xaxis": "x5",
         "y": [
          33646
         ],
         "yaxis": "y5"
        },
        {
         "alignmentgroup": "True",
         "hovertemplate": "=%{x}<br>Date=4/6/2024<br>Total Sales (USD)=%{y}<extra></extra>",
         "legendgroup": "Concentrate",
         "marker": {
          "color": "#EF553B",
          "pattern": {
           "shape": ""
          }
         },
         "name": "Concentrate",
         "offsetgroup": "Concentrate",
         "orientation": "v",
         "showlegend": false,
         "textposition": "auto",
         "type": "bar",
         "x": [
          "Concentrate"
         ],
         "xaxis": "x6",
         "y": [
          32437
         ],
         "yaxis": "y6"
        },
        {
         "alignmentgroup": "True",
         "hovertemplate": "=%{x}<br>Date=4/7/2024<br>Total Sales (USD)=%{y}<extra></extra>",
         "legendgroup": "Concentrate",
         "marker": {
          "color": "#EF553B",
          "pattern": {
           "shape": ""
          }
         },
         "name": "Concentrate",
         "offsetgroup": "Concentrate",
         "orientation": "v",
         "showlegend": false,
         "textposition": "auto",
         "type": "bar",
         "x": [
          "Concentrate"
         ],
         "xaxis": "x7",
         "y": [
          23456
         ],
         "yaxis": "y7"
        },
        {
         "alignmentgroup": "True",
         "hovertemplate": "=%{x}<br>Date=4/1/2024<br>Total Sales (USD)=%{y}<extra></extra>",
         "legendgroup": "Concentrate (Each)",
         "marker": {
          "color": "#00cc96",
          "pattern": {
           "shape": ""
          }
         },
         "name": "Concentrate (Each)",
         "offsetgroup": "Concentrate (Each)",
         "orientation": "v",
         "showlegend": true,
         "textposition": "auto",
         "type": "bar",
         "x": [
          "Concentrate (Each)"
         ],
         "xaxis": "x",
         "y": [
          177008
         ],
         "yaxis": "y"
        },
        {
         "alignmentgroup": "True",
         "hovertemplate": "=%{x}<br>Date=4/2/2024<br>Total Sales (USD)=%{y}<extra></extra>",
         "legendgroup": "Concentrate (Each)",
         "marker": {
          "color": "#00cc96",
          "pattern": {
           "shape": ""
          }
         },
         "name": "Concentrate (Each)",
         "offsetgroup": "Concentrate (Each)",
         "orientation": "v",
         "showlegend": false,
         "textposition": "auto",
         "type": "bar",
         "x": [
          "Concentrate (Each)"
         ],
         "xaxis": "x2",
         "y": [
          164465
         ],
         "yaxis": "y2"
        },
        {
         "alignmentgroup": "True",
         "hovertemplate": "=%{x}<br>Date=4/3/2024<br>Total Sales (USD)=%{y}<extra></extra>",
         "legendgroup": "Concentrate (Each)",
         "marker": {
          "color": "#00cc96",
          "pattern": {
           "shape": ""
          }
         },
         "name": "Concentrate (Each)",
         "offsetgroup": "Concentrate (Each)",
         "orientation": "v",
         "showlegend": false,
         "textposition": "auto",
         "type": "bar",
         "x": [
          "Concentrate (Each)"
         ],
         "xaxis": "x3",
         "y": [
          193654
         ],
         "yaxis": "y3"
        },
        {
         "alignmentgroup": "True",
         "hovertemplate": "=%{x}<br>Date=4/4/2024<br>Total Sales (USD)=%{y}<extra></extra>",
         "legendgroup": "Concentrate (Each)",
         "marker": {
          "color": "#00cc96",
          "pattern": {
           "shape": ""
          }
         },
         "name": "Concentrate (Each)",
         "offsetgroup": "Concentrate (Each)",
         "orientation": "v",
         "showlegend": false,
         "textposition": "auto",
         "type": "bar",
         "x": [
          "Concentrate (Each)"
         ],
         "xaxis": "x4",
         "y": [
          182292
         ],
         "yaxis": "y4"
        },
        {
         "alignmentgroup": "True",
         "hovertemplate": "=%{x}<br>Date=4/5/2024<br>Total Sales (USD)=%{y}<extra></extra>",
         "legendgroup": "Concentrate (Each)",
         "marker": {
          "color": "#00cc96",
          "pattern": {
           "shape": ""
          }
         },
         "name": "Concentrate (Each)",
         "offsetgroup": "Concentrate (Each)",
         "orientation": "v",
         "showlegend": false,
         "textposition": "auto",
         "type": "bar",
         "x": [
          "Concentrate (Each)"
         ],
         "xaxis": "x5",
         "y": [
          266418
         ],
         "yaxis": "y5"
        },
        {
         "alignmentgroup": "True",
         "hovertemplate": "=%{x}<br>Date=4/6/2024<br>Total Sales (USD)=%{y}<extra></extra>",
         "legendgroup": "Concentrate (Each)",
         "marker": {
          "color": "#00cc96",
          "pattern": {
           "shape": ""
          }
         },
         "name": "Concentrate (Each)",
         "offsetgroup": "Concentrate (Each)",
         "orientation": "v",
         "showlegend": false,
         "textposition": "auto",
         "type": "bar",
         "x": [
          "Concentrate (Each)"
         ],
         "xaxis": "x6",
         "y": [
          233669
         ],
         "yaxis": "y6"
        },
        {
         "alignmentgroup": "True",
         "hovertemplate": "=%{x}<br>Date=4/7/2024<br>Total Sales (USD)=%{y}<extra></extra>",
         "legendgroup": "Concentrate (Each)",
         "marker": {
          "color": "#00cc96",
          "pattern": {
           "shape": ""
          }
         },
         "name": "Concentrate (Each)",
         "offsetgroup": "Concentrate (Each)",
         "orientation": "v",
         "showlegend": false,
         "textposition": "auto",
         "type": "bar",
         "x": [
          "Concentrate (Each)"
         ],
         "xaxis": "x7",
         "y": [
          188865
         ],
         "yaxis": "y7"
        },
        {
         "alignmentgroup": "True",
         "hovertemplate": "=%{x}<br>Date=4/1/2024<br>Total Sales (USD)=%{y}<extra></extra>",
         "legendgroup": "Infused (edible)",
         "marker": {
          "color": "#ab63fa",
          "pattern": {
           "shape": ""
          }
         },
         "name": "Infused (edible)",
         "offsetgroup": "Infused (edible)",
         "orientation": "v",
         "showlegend": true,
         "textposition": "auto",
         "type": "bar",
         "x": [
          "Infused (edible)"
         ],
         "xaxis": "x",
         "y": [
          443236
         ],
         "yaxis": "y"
        },
        {
         "alignmentgroup": "True",
         "hovertemplate": "=%{x}<br>Date=4/2/2024<br>Total Sales (USD)=%{y}<extra></extra>",
         "legendgroup": "Infused (edible)",
         "marker": {
          "color": "#ab63fa",
          "pattern": {
           "shape": ""
          }
         },
         "name": "Infused (edible)",
         "offsetgroup": "Infused (edible)",
         "orientation": "v",
         "showlegend": false,
         "textposition": "auto",
         "type": "bar",
         "x": [
          "Infused (edible)"
         ],
         "xaxis": "x2",
         "y": [
          441704
         ],
         "yaxis": "y2"
        },
        {
         "alignmentgroup": "True",
         "hovertemplate": "=%{x}<br>Date=4/3/2024<br>Total Sales (USD)=%{y}<extra></extra>",
         "legendgroup": "Infused (edible)",
         "marker": {
          "color": "#ab63fa",
          "pattern": {
           "shape": ""
          }
         },
         "name": "Infused (edible)",
         "offsetgroup": "Infused (edible)",
         "orientation": "v",
         "showlegend": false,
         "textposition": "auto",
         "type": "bar",
         "x": [
          "Infused (edible)"
         ],
         "xaxis": "x3",
         "y": [
          445966
         ],
         "yaxis": "y3"
        },
        {
         "alignmentgroup": "True",
         "hovertemplate": "=%{x}<br>Date=4/4/2024<br>Total Sales (USD)=%{y}<extra></extra>",
         "legendgroup": "Infused (edible)",
         "marker": {
          "color": "#ab63fa",
          "pattern": {
           "shape": ""
          }
         },
         "name": "Infused (edible)",
         "offsetgroup": "Infused (edible)",
         "orientation": "v",
         "showlegend": false,
         "textposition": "auto",
         "type": "bar",
         "x": [
          "Infused (edible)"
         ],
         "xaxis": "x4",
         "y": [
          423370
         ],
         "yaxis": "y4"
        },
        {
         "alignmentgroup": "True",
         "hovertemplate": "=%{x}<br>Date=4/5/2024<br>Total Sales (USD)=%{y}<extra></extra>",
         "legendgroup": "Infused (edible)",
         "marker": {
          "color": "#ab63fa",
          "pattern": {
           "shape": ""
          }
         },
         "name": "Infused (edible)",
         "offsetgroup": "Infused (edible)",
         "orientation": "v",
         "showlegend": false,
         "textposition": "auto",
         "type": "bar",
         "x": [
          "Infused (edible)"
         ],
         "xaxis": "x5",
         "y": [
          698392
         ],
         "yaxis": "y5"
        },
        {
         "alignmentgroup": "True",
         "hovertemplate": "=%{x}<br>Date=4/6/2024<br>Total Sales (USD)=%{y}<extra></extra>",
         "legendgroup": "Infused (edible)",
         "marker": {
          "color": "#ab63fa",
          "pattern": {
           "shape": ""
          }
         },
         "name": "Infused (edible)",
         "offsetgroup": "Infused (edible)",
         "orientation": "v",
         "showlegend": false,
         "textposition": "auto",
         "type": "bar",
         "x": [
          "Infused (edible)"
         ],
         "xaxis": "x6",
         "y": [
          698379
         ],
         "yaxis": "y6"
        },
        {
         "alignmentgroup": "True",
         "hovertemplate": "=%{x}<br>Date=4/7/2024<br>Total Sales (USD)=%{y}<extra></extra>",
         "legendgroup": "Infused (edible)",
         "marker": {
          "color": "#ab63fa",
          "pattern": {
           "shape": ""
          }
         },
         "name": "Infused (edible)",
         "offsetgroup": "Infused (edible)",
         "orientation": "v",
         "showlegend": false,
         "textposition": "auto",
         "type": "bar",
         "x": [
          "Infused (edible)"
         ],
         "xaxis": "x7",
         "y": [
          487197
         ],
         "yaxis": "y7"
        },
        {
         "alignmentgroup": "True",
         "hovertemplate": "=%{x}<br>Date=4/1/2024<br>Total Sales (USD)=%{y}<extra></extra>",
         "legendgroup": "Infused (non-edible)",
         "marker": {
          "color": "#FFA15A",
          "pattern": {
           "shape": ""
          }
         },
         "name": "Infused (non-edible)",
         "offsetgroup": "Infused (non-edible)",
         "orientation": "v",
         "showlegend": true,
         "textposition": "auto",
         "type": "bar",
         "x": [
          "Infused (non-edible)"
         ],
         "xaxis": "x",
         "y": [
          15133
         ],
         "yaxis": "y"
        },
        {
         "alignmentgroup": "True",
         "hovertemplate": "=%{x}<br>Date=4/2/2024<br>Total Sales (USD)=%{y}<extra></extra>",
         "legendgroup": "Infused (non-edible)",
         "marker": {
          "color": "#FFA15A",
          "pattern": {
           "shape": ""
          }
         },
         "name": "Infused (non-edible)",
         "offsetgroup": "Infused (non-edible)",
         "orientation": "v",
         "showlegend": false,
         "textposition": "auto",
         "type": "bar",
         "x": [
          "Infused (non-edible)"
         ],
         "xaxis": "x2",
         "y": [
          15338
         ],
         "yaxis": "y2"
        },
        {
         "alignmentgroup": "True",
         "hovertemplate": "=%{x}<br>Date=4/3/2024<br>Total Sales (USD)=%{y}<extra></extra>",
         "legendgroup": "Infused (non-edible)",
         "marker": {
          "color": "#FFA15A",
          "pattern": {
           "shape": ""
          }
         },
         "name": "Infused (non-edible)",
         "offsetgroup": "Infused (non-edible)",
         "orientation": "v",
         "showlegend": false,
         "textposition": "auto",
         "type": "bar",
         "x": [
          "Infused (non-edible)"
         ],
         "xaxis": "x3",
         "y": [
          14438
         ],
         "yaxis": "y3"
        },
        {
         "alignmentgroup": "True",
         "hovertemplate": "=%{x}<br>Date=4/4/2024<br>Total Sales (USD)=%{y}<extra></extra>",
         "legendgroup": "Infused (non-edible)",
         "marker": {
          "color": "#FFA15A",
          "pattern": {
           "shape": ""
          }
         },
         "name": "Infused (non-edible)",
         "offsetgroup": "Infused (non-edible)",
         "orientation": "v",
         "showlegend": false,
         "textposition": "auto",
         "type": "bar",
         "x": [
          "Infused (non-edible)"
         ],
         "xaxis": "x4",
         "y": [
          12240
         ],
         "yaxis": "y4"
        },
        {
         "alignmentgroup": "True",
         "hovertemplate": "=%{x}<br>Date=4/5/2024<br>Total Sales (USD)=%{y}<extra></extra>",
         "legendgroup": "Infused (non-edible)",
         "marker": {
          "color": "#FFA15A",
          "pattern": {
           "shape": ""
          }
         },
         "name": "Infused (non-edible)",
         "offsetgroup": "Infused (non-edible)",
         "orientation": "v",
         "showlegend": false,
         "textposition": "auto",
         "type": "bar",
         "x": [
          "Infused (non-edible)"
         ],
         "xaxis": "x5",
         "y": [
          19981
         ],
         "yaxis": "y5"
        },
        {
         "alignmentgroup": "True",
         "hovertemplate": "=%{x}<br>Date=4/6/2024<br>Total Sales (USD)=%{y}<extra></extra>",
         "legendgroup": "Infused (non-edible)",
         "marker": {
          "color": "#FFA15A",
          "pattern": {
           "shape": ""
          }
         },
         "name": "Infused (non-edible)",
         "offsetgroup": "Infused (non-edible)",
         "orientation": "v",
         "showlegend": false,
         "textposition": "auto",
         "type": "bar",
         "x": [
          "Infused (non-edible)"
         ],
         "xaxis": "x6",
         "y": [
          26050
         ],
         "yaxis": "y6"
        },
        {
         "alignmentgroup": "True",
         "hovertemplate": "=%{x}<br>Date=4/7/2024<br>Total Sales (USD)=%{y}<extra></extra>",
         "legendgroup": "Infused (non-edible)",
         "marker": {
          "color": "#FFA15A",
          "pattern": {
           "shape": ""
          }
         },
         "name": "Infused (non-edible)",
         "offsetgroup": "Infused (non-edible)",
         "orientation": "v",
         "showlegend": false,
         "textposition": "auto",
         "type": "bar",
         "x": [
          "Infused (non-edible)"
         ],
         "xaxis": "x7",
         "y": [
          15309
         ],
         "yaxis": "y7"
        },
        {
         "alignmentgroup": "True",
         "hovertemplate": "=%{x}<br>Date=4/1/2024<br>Total Sales (USD)=%{y}<extra></extra>",
         "legendgroup": "Infused Beverage",
         "marker": {
          "color": "#19d3f3",
          "pattern": {
           "shape": ""
          }
         },
         "name": "Infused Beverage",
         "offsetgroup": "Infused Beverage",
         "orientation": "v",
         "showlegend": true,
         "textposition": "auto",
         "type": "bar",
         "x": [
          "Infused Beverage"
         ],
         "xaxis": "x",
         "y": [
          20058
         ],
         "yaxis": "y"
        },
        {
         "alignmentgroup": "True",
         "hovertemplate": "=%{x}<br>Date=4/2/2024<br>Total Sales (USD)=%{y}<extra></extra>",
         "legendgroup": "Infused Beverage",
         "marker": {
          "color": "#19d3f3",
          "pattern": {
           "shape": ""
          }
         },
         "name": "Infused Beverage",
         "offsetgroup": "Infused Beverage",
         "orientation": "v",
         "showlegend": false,
         "textposition": "auto",
         "type": "bar",
         "x": [
          "Infused Beverage"
         ],
         "xaxis": "x2",
         "y": [
          20659
         ],
         "yaxis": "y2"
        },
        {
         "alignmentgroup": "True",
         "hovertemplate": "=%{x}<br>Date=4/3/2024<br>Total Sales (USD)=%{y}<extra></extra>",
         "legendgroup": "Infused Beverage",
         "marker": {
          "color": "#19d3f3",
          "pattern": {
           "shape": ""
          }
         },
         "name": "Infused Beverage",
         "offsetgroup": "Infused Beverage",
         "orientation": "v",
         "showlegend": false,
         "textposition": "auto",
         "type": "bar",
         "x": [
          "Infused Beverage"
         ],
         "xaxis": "x3",
         "y": [
          20635
         ],
         "yaxis": "y3"
        },
        {
         "alignmentgroup": "True",
         "hovertemplate": "=%{x}<br>Date=4/4/2024<br>Total Sales (USD)=%{y}<extra></extra>",
         "legendgroup": "Infused Beverage",
         "marker": {
          "color": "#19d3f3",
          "pattern": {
           "shape": ""
          }
         },
         "name": "Infused Beverage",
         "offsetgroup": "Infused Beverage",
         "orientation": "v",
         "showlegend": false,
         "textposition": "auto",
         "type": "bar",
         "x": [
          "Infused Beverage"
         ],
         "xaxis": "x4",
         "y": [
          21369
         ],
         "yaxis": "y4"
        },
        {
         "alignmentgroup": "True",
         "hovertemplate": "=%{x}<br>Date=4/5/2024<br>Total Sales (USD)=%{y}<extra></extra>",
         "legendgroup": "Infused Beverage",
         "marker": {
          "color": "#19d3f3",
          "pattern": {
           "shape": ""
          }
         },
         "name": "Infused Beverage",
         "offsetgroup": "Infused Beverage",
         "orientation": "v",
         "showlegend": false,
         "textposition": "auto",
         "type": "bar",
         "x": [
          "Infused Beverage"
         ],
         "xaxis": "x5",
         "y": [
          44779
         ],
         "yaxis": "y5"
        },
        {
         "alignmentgroup": "True",
         "hovertemplate": "=%{x}<br>Date=4/6/2024<br>Total Sales (USD)=%{y}<extra></extra>",
         "legendgroup": "Infused Beverage",
         "marker": {
          "color": "#19d3f3",
          "pattern": {
           "shape": ""
          }
         },
         "name": "Infused Beverage",
         "offsetgroup": "Infused Beverage",
         "orientation": "v",
         "showlegend": false,
         "textposition": "auto",
         "type": "bar",
         "x": [
          "Infused Beverage"
         ],
         "xaxis": "x6",
         "y": [
          47279
         ],
         "yaxis": "y6"
        },
        {
         "alignmentgroup": "True",
         "hovertemplate": "=%{x}<br>Date=4/7/2024<br>Total Sales (USD)=%{y}<extra></extra>",
         "legendgroup": "Infused Beverage",
         "marker": {
          "color": "#19d3f3",
          "pattern": {
           "shape": ""
          }
         },
         "name": "Infused Beverage",
         "offsetgroup": "Infused Beverage",
         "orientation": "v",
         "showlegend": false,
         "textposition": "auto",
         "type": "bar",
         "x": [
          "Infused Beverage"
         ],
         "xaxis": "x7",
         "y": [
          27539
         ],
         "yaxis": "y7"
        },
        {
         "alignmentgroup": "True",
         "hovertemplate": "=%{x}<br>Date=4/1/2024<br>Total Sales (USD)=%{y}<extra></extra>",
         "legendgroup": "Infused Pre-Rolls",
         "marker": {
          "color": "#FF6692",
          "pattern": {
           "shape": ""
          }
         },
         "name": "Infused Pre-Rolls",
         "offsetgroup": "Infused Pre-Rolls",
         "orientation": "v",
         "showlegend": true,
         "textposition": "auto",
         "type": "bar",
         "x": [
          "Infused Pre-Rolls"
         ],
         "xaxis": "x",
         "y": [
          86988
         ],
         "yaxis": "y"
        },
        {
         "alignmentgroup": "True",
         "hovertemplate": "=%{x}<br>Date=4/2/2024<br>Total Sales (USD)=%{y}<extra></extra>",
         "legendgroup": "Infused Pre-Rolls",
         "marker": {
          "color": "#FF6692",
          "pattern": {
           "shape": ""
          }
         },
         "name": "Infused Pre-Rolls",
         "offsetgroup": "Infused Pre-Rolls",
         "orientation": "v",
         "showlegend": false,
         "textposition": "auto",
         "type": "bar",
         "x": [
          "Infused Pre-Rolls"
         ],
         "xaxis": "x2",
         "y": [
          85732
         ],
         "yaxis": "y2"
        },
        {
         "alignmentgroup": "True",
         "hovertemplate": "=%{x}<br>Date=4/3/2024<br>Total Sales (USD)=%{y}<extra></extra>",
         "legendgroup": "Infused Pre-Rolls",
         "marker": {
          "color": "#FF6692",
          "pattern": {
           "shape": ""
          }
         },
         "name": "Infused Pre-Rolls",
         "offsetgroup": "Infused Pre-Rolls",
         "orientation": "v",
         "showlegend": false,
         "textposition": "auto",
         "type": "bar",
         "x": [
          "Infused Pre-Rolls"
         ],
         "xaxis": "x3",
         "y": [
          93927
         ],
         "yaxis": "y3"
        },
        {
         "alignmentgroup": "True",
         "hovertemplate": "=%{x}<br>Date=4/4/2024<br>Total Sales (USD)=%{y}<extra></extra>",
         "legendgroup": "Infused Pre-Rolls",
         "marker": {
          "color": "#FF6692",
          "pattern": {
           "shape": ""
          }
         },
         "name": "Infused Pre-Rolls",
         "offsetgroup": "Infused Pre-Rolls",
         "orientation": "v",
         "showlegend": false,
         "textposition": "auto",
         "type": "bar",
         "x": [
          "Infused Pre-Rolls"
         ],
         "xaxis": "x4",
         "y": [
          95613
         ],
         "yaxis": "y4"
        },
        {
         "alignmentgroup": "True",
         "hovertemplate": "=%{x}<br>Date=4/5/2024<br>Total Sales (USD)=%{y}<extra></extra>",
         "legendgroup": "Infused Pre-Rolls",
         "marker": {
          "color": "#FF6692",
          "pattern": {
           "shape": ""
          }
         },
         "name": "Infused Pre-Rolls",
         "offsetgroup": "Infused Pre-Rolls",
         "orientation": "v",
         "showlegend": false,
         "textposition": "auto",
         "type": "bar",
         "x": [
          "Infused Pre-Rolls"
         ],
         "xaxis": "x5",
         "y": [
          133010
         ],
         "yaxis": "y5"
        },
        {
         "alignmentgroup": "True",
         "hovertemplate": "=%{x}<br>Date=4/6/2024<br>Total Sales (USD)=%{y}<extra></extra>",
         "legendgroup": "Infused Pre-Rolls",
         "marker": {
          "color": "#FF6692",
          "pattern": {
           "shape": ""
          }
         },
         "name": "Infused Pre-Rolls",
         "offsetgroup": "Infused Pre-Rolls",
         "orientation": "v",
         "showlegend": false,
         "textposition": "auto",
         "type": "bar",
         "x": [
          "Infused Pre-Rolls"
         ],
         "xaxis": "x6",
         "y": [
          126065
         ],
         "yaxis": "y6"
        },
        {
         "alignmentgroup": "True",
         "hovertemplate": "=%{x}<br>Date=4/7/2024<br>Total Sales (USD)=%{y}<extra></extra>",
         "legendgroup": "Infused Pre-Rolls",
         "marker": {
          "color": "#FF6692",
          "pattern": {
           "shape": ""
          }
         },
         "name": "Infused Pre-Rolls",
         "offsetgroup": "Infused Pre-Rolls",
         "orientation": "v",
         "showlegend": false,
         "textposition": "auto",
         "type": "bar",
         "x": [
          "Infused Pre-Rolls"
         ],
         "xaxis": "x7",
         "y": [
          95129
         ],
         "yaxis": "y7"
        },
        {
         "alignmentgroup": "True",
         "hovertemplate": "=%{x}<br>Date=4/1/2024<br>Total Sales (USD)=%{y}<extra></extra>",
         "legendgroup": "Raw Pre-Rolls",
         "marker": {
          "color": "#B6E880",
          "pattern": {
           "shape": ""
          }
         },
         "name": "Raw Pre-Rolls",
         "offsetgroup": "Raw Pre-Rolls",
         "orientation": "v",
         "showlegend": true,
         "textposition": "auto",
         "type": "bar",
         "x": [
          "Raw Pre-Rolls"
         ],
         "xaxis": "x",
         "y": [
          638193
         ],
         "yaxis": "y"
        },
        {
         "alignmentgroup": "True",
         "hovertemplate": "=%{x}<br>Date=4/2/2024<br>Total Sales (USD)=%{y}<extra></extra>",
         "legendgroup": "Raw Pre-Rolls",
         "marker": {
          "color": "#B6E880",
          "pattern": {
           "shape": ""
          }
         },
         "name": "Raw Pre-Rolls",
         "offsetgroup": "Raw Pre-Rolls",
         "orientation": "v",
         "showlegend": false,
         "textposition": "auto",
         "type": "bar",
         "x": [
          "Raw Pre-Rolls"
         ],
         "xaxis": "x2",
         "y": [
          687502
         ],
         "yaxis": "y2"
        },
        {
         "alignmentgroup": "True",
         "hovertemplate": "=%{x}<br>Date=4/3/2024<br>Total Sales (USD)=%{y}<extra></extra>",
         "legendgroup": "Raw Pre-Rolls",
         "marker": {
          "color": "#B6E880",
          "pattern": {
           "shape": ""
          }
         },
         "name": "Raw Pre-Rolls",
         "offsetgroup": "Raw Pre-Rolls",
         "orientation": "v",
         "showlegend": false,
         "textposition": "auto",
         "type": "bar",
         "x": [
          "Raw Pre-Rolls"
         ],
         "xaxis": "x3",
         "y": [
          628685
         ],
         "yaxis": "y3"
        },
        {
         "alignmentgroup": "True",
         "hovertemplate": "=%{x}<br>Date=4/4/2024<br>Total Sales (USD)=%{y}<extra></extra>",
         "legendgroup": "Raw Pre-Rolls",
         "marker": {
          "color": "#B6E880",
          "pattern": {
           "shape": ""
          }
         },
         "name": "Raw Pre-Rolls",
         "offsetgroup": "Raw Pre-Rolls",
         "orientation": "v",
         "showlegend": false,
         "textposition": "auto",
         "type": "bar",
         "x": [
          "Raw Pre-Rolls"
         ],
         "xaxis": "x4",
         "y": [
          617487
         ],
         "yaxis": "y4"
        },
        {
         "alignmentgroup": "True",
         "hovertemplate": "=%{x}<br>Date=4/5/2024<br>Total Sales (USD)=%{y}<extra></extra>",
         "legendgroup": "Raw Pre-Rolls",
         "marker": {
          "color": "#B6E880",
          "pattern": {
           "shape": ""
          }
         },
         "name": "Raw Pre-Rolls",
         "offsetgroup": "Raw Pre-Rolls",
         "orientation": "v",
         "showlegend": false,
         "textposition": "auto",
         "type": "bar",
         "x": [
          "Raw Pre-Rolls"
         ],
         "xaxis": "x5",
         "y": [
          866883
         ],
         "yaxis": "y5"
        },
        {
         "alignmentgroup": "True",
         "hovertemplate": "=%{x}<br>Date=4/6/2024<br>Total Sales (USD)=%{y}<extra></extra>",
         "legendgroup": "Raw Pre-Rolls",
         "marker": {
          "color": "#B6E880",
          "pattern": {
           "shape": ""
          }
         },
         "name": "Raw Pre-Rolls",
         "offsetgroup": "Raw Pre-Rolls",
         "orientation": "v",
         "showlegend": false,
         "textposition": "auto",
         "type": "bar",
         "x": [
          "Raw Pre-Rolls"
         ],
         "xaxis": "x6",
         "y": [
          796839
         ],
         "yaxis": "y6"
        },
        {
         "alignmentgroup": "True",
         "hovertemplate": "=%{x}<br>Date=4/7/2024<br>Total Sales (USD)=%{y}<extra></extra>",
         "legendgroup": "Raw Pre-Rolls",
         "marker": {
          "color": "#B6E880",
          "pattern": {
           "shape": ""
          }
         },
         "name": "Raw Pre-Rolls",
         "offsetgroup": "Raw Pre-Rolls",
         "orientation": "v",
         "showlegend": false,
         "textposition": "auto",
         "type": "bar",
         "x": [
          "Raw Pre-Rolls"
         ],
         "xaxis": "x7",
         "y": [
          611311
         ],
         "yaxis": "y7"
        },
        {
         "alignmentgroup": "True",
         "hovertemplate": "=%{x}<br>Date=4/1/2024<br>Total Sales (USD)=%{y}<extra></extra>",
         "legendgroup": "Shake/Trim",
         "marker": {
          "color": "#FF97FF",
          "pattern": {
           "shape": ""
          }
         },
         "name": "Shake/Trim",
         "offsetgroup": "Shake/Trim",
         "orientation": "v",
         "showlegend": true,
         "textposition": "auto",
         "type": "bar",
         "x": [
          "Shake/Trim"
         ],
         "xaxis": "x",
         "y": [
          33502
         ],
         "yaxis": "y"
        },
        {
         "alignmentgroup": "True",
         "hovertemplate": "=%{x}<br>Date=4/2/2024<br>Total Sales (USD)=%{y}<extra></extra>",
         "legendgroup": "Shake/Trim",
         "marker": {
          "color": "#FF97FF",
          "pattern": {
           "shape": ""
          }
         },
         "name": "Shake/Trim",
         "offsetgroup": "Shake/Trim",
         "orientation": "v",
         "showlegend": false,
         "textposition": "auto",
         "type": "bar",
         "x": [
          "Shake/Trim"
         ],
         "xaxis": "x2",
         "y": [
          33538
         ],
         "yaxis": "y2"
        },
        {
         "alignmentgroup": "True",
         "hovertemplate": "=%{x}<br>Date=4/3/2024<br>Total Sales (USD)=%{y}<extra></extra>",
         "legendgroup": "Shake/Trim",
         "marker": {
          "color": "#FF97FF",
          "pattern": {
           "shape": ""
          }
         },
         "name": "Shake/Trim",
         "offsetgroup": "Shake/Trim",
         "orientation": "v",
         "showlegend": false,
         "textposition": "auto",
         "type": "bar",
         "x": [
          "Shake/Trim"
         ],
         "xaxis": "x3",
         "y": [
          36385
         ],
         "yaxis": "y3"
        },
        {
         "alignmentgroup": "True",
         "hovertemplate": "=%{x}<br>Date=4/4/2024<br>Total Sales (USD)=%{y}<extra></extra>",
         "legendgroup": "Shake/Trim",
         "marker": {
          "color": "#FF97FF",
          "pattern": {
           "shape": ""
          }
         },
         "name": "Shake/Trim",
         "offsetgroup": "Shake/Trim",
         "orientation": "v",
         "showlegend": false,
         "textposition": "auto",
         "type": "bar",
         "x": [
          "Shake/Trim"
         ],
         "xaxis": "x4",
         "y": [
          34950
         ],
         "yaxis": "y4"
        },
        {
         "alignmentgroup": "True",
         "hovertemplate": "=%{x}<br>Date=4/5/2024<br>Total Sales (USD)=%{y}<extra></extra>",
         "legendgroup": "Shake/Trim",
         "marker": {
          "color": "#FF97FF",
          "pattern": {
           "shape": ""
          }
         },
         "name": "Shake/Trim",
         "offsetgroup": "Shake/Trim",
         "orientation": "v",
         "showlegend": false,
         "textposition": "auto",
         "type": "bar",
         "x": [
          "Shake/Trim"
         ],
         "xaxis": "x5",
         "y": [
          53767
         ],
         "yaxis": "y5"
        },
        {
         "alignmentgroup": "True",
         "hovertemplate": "=%{x}<br>Date=4/6/2024<br>Total Sales (USD)=%{y}<extra></extra>",
         "legendgroup": "Shake/Trim",
         "marker": {
          "color": "#FF97FF",
          "pattern": {
           "shape": ""
          }
         },
         "name": "Shake/Trim",
         "offsetgroup": "Shake/Trim",
         "orientation": "v",
         "showlegend": false,
         "textposition": "auto",
         "type": "bar",
         "x": [
          "Shake/Trim"
         ],
         "xaxis": "x6",
         "y": [
          47057
         ],
         "yaxis": "y6"
        },
        {
         "alignmentgroup": "True",
         "hovertemplate": "=%{x}<br>Date=4/7/2024<br>Total Sales (USD)=%{y}<extra></extra>",
         "legendgroup": "Shake/Trim",
         "marker": {
          "color": "#FF97FF",
          "pattern": {
           "shape": ""
          }
         },
         "name": "Shake/Trim",
         "offsetgroup": "Shake/Trim",
         "orientation": "v",
         "showlegend": false,
         "textposition": "auto",
         "type": "bar",
         "x": [
          "Shake/Trim"
         ],
         "xaxis": "x7",
         "y": [
          37032
         ],
         "yaxis": "y7"
        },
        {
         "alignmentgroup": "True",
         "hovertemplate": "=%{x}<br>Date=4/1/2024<br>Total Sales (USD)=%{y}<extra></extra>",
         "legendgroup": "Shake/Trim (by strain)",
         "marker": {
          "color": "#FECB52",
          "pattern": {
           "shape": ""
          }
         },
         "name": "Shake/Trim (by strain)",
         "offsetgroup": "Shake/Trim (by strain)",
         "orientation": "v",
         "showlegend": true,
         "textposition": "auto",
         "type": "bar",
         "x": [
          "Shake/Trim (by strain)"
         ],
         "xaxis": "x",
         "y": [
          95513
         ],
         "yaxis": "y"
        },
        {
         "alignmentgroup": "True",
         "hovertemplate": "=%{x}<br>Date=4/2/2024<br>Total Sales (USD)=%{y}<extra></extra>",
         "legendgroup": "Shake/Trim (by strain)",
         "marker": {
          "color": "#FECB52",
          "pattern": {
           "shape": ""
          }
         },
         "name": "Shake/Trim (by strain)",
         "offsetgroup": "Shake/Trim (by strain)",
         "orientation": "v",
         "showlegend": false,
         "textposition": "auto",
         "type": "bar",
         "x": [
          "Shake/Trim (by strain)"
         ],
         "xaxis": "x2",
         "y": [
          89578
         ],
         "yaxis": "y2"
        },
        {
         "alignmentgroup": "True",
         "hovertemplate": "=%{x}<br>Date=4/3/2024<br>Total Sales (USD)=%{y}<extra></extra>",
         "legendgroup": "Shake/Trim (by strain)",
         "marker": {
          "color": "#FECB52",
          "pattern": {
           "shape": ""
          }
         },
         "name": "Shake/Trim (by strain)",
         "offsetgroup": "Shake/Trim (by strain)",
         "orientation": "v",
         "showlegend": false,
         "textposition": "auto",
         "type": "bar",
         "x": [
          "Shake/Trim (by strain)"
         ],
         "xaxis": "x3",
         "y": [
          107693
         ],
         "yaxis": "y3"
        },
        {
         "alignmentgroup": "True",
         "hovertemplate": "=%{x}<br>Date=4/4/2024<br>Total Sales (USD)=%{y}<extra></extra>",
         "legendgroup": "Shake/Trim (by strain)",
         "marker": {
          "color": "#FECB52",
          "pattern": {
           "shape": ""
          }
         },
         "name": "Shake/Trim (by strain)",
         "offsetgroup": "Shake/Trim (by strain)",
         "orientation": "v",
         "showlegend": false,
         "textposition": "auto",
         "type": "bar",
         "x": [
          "Shake/Trim (by strain)"
         ],
         "xaxis": "x4",
         "y": [
          101558
         ],
         "yaxis": "y4"
        },
        {
         "alignmentgroup": "True",
         "hovertemplate": "=%{x}<br>Date=4/5/2024<br>Total Sales (USD)=%{y}<extra></extra>",
         "legendgroup": "Shake/Trim (by strain)",
         "marker": {
          "color": "#FECB52",
          "pattern": {
           "shape": ""
          }
         },
         "name": "Shake/Trim (by strain)",
         "offsetgroup": "Shake/Trim (by strain)",
         "orientation": "v",
         "showlegend": false,
         "textposition": "auto",
         "type": "bar",
         "x": [
          "Shake/Trim (by strain)"
         ],
         "xaxis": "x5",
         "y": [
          136326
         ],
         "yaxis": "y5"
        },
        {
         "alignmentgroup": "True",
         "hovertemplate": "=%{x}<br>Date=4/6/2024<br>Total Sales (USD)=%{y}<extra></extra>",
         "legendgroup": "Shake/Trim (by strain)",
         "marker": {
          "color": "#FECB52",
          "pattern": {
           "shape": ""
          }
         },
         "name": "Shake/Trim (by strain)",
         "offsetgroup": "Shake/Trim (by strain)",
         "orientation": "v",
         "showlegend": false,
         "textposition": "auto",
         "type": "bar",
         "x": [
          "Shake/Trim (by strain)"
         ],
         "xaxis": "x6",
         "y": [
          116053
         ],
         "yaxis": "y6"
        },
        {
         "alignmentgroup": "True",
         "hovertemplate": "=%{x}<br>Date=4/7/2024<br>Total Sales (USD)=%{y}<extra></extra>",
         "legendgroup": "Shake/Trim (by strain)",
         "marker": {
          "color": "#FECB52",
          "pattern": {
           "shape": ""
          }
         },
         "name": "Shake/Trim (by strain)",
         "offsetgroup": "Shake/Trim (by strain)",
         "orientation": "v",
         "showlegend": false,
         "textposition": "auto",
         "type": "bar",
         "x": [
          "Shake/Trim (by strain)"
         ],
         "xaxis": "x7",
         "y": [
          98397
         ],
         "yaxis": "y7"
        },
        {
         "alignmentgroup": "True",
         "hovertemplate": "=%{x}<br>Date=4/1/2024<br>Total Sales (USD)=%{y}<extra></extra>",
         "legendgroup": "Vape Product",
         "marker": {
          "color": "#636efa",
          "pattern": {
           "shape": ""
          }
         },
         "name": "Vape Product",
         "offsetgroup": "Vape Product",
         "orientation": "v",
         "showlegend": true,
         "textposition": "auto",
         "type": "bar",
         "x": [
          "Vape Product"
         ],
         "xaxis": "x",
         "y": [
          831050
         ],
         "yaxis": "y"
        },
        {
         "alignmentgroup": "True",
         "hovertemplate": "=%{x}<br>Date=4/2/2024<br>Total Sales (USD)=%{y}<extra></extra>",
         "legendgroup": "Vape Product",
         "marker": {
          "color": "#636efa",
          "pattern": {
           "shape": ""
          }
         },
         "name": "Vape Product",
         "offsetgroup": "Vape Product",
         "orientation": "v",
         "showlegend": false,
         "textposition": "auto",
         "type": "bar",
         "x": [
          "Vape Product"
         ],
         "xaxis": "x2",
         "y": [
          782583
         ],
         "yaxis": "y2"
        },
        {
         "alignmentgroup": "True",
         "hovertemplate": "=%{x}<br>Date=4/3/2024<br>Total Sales (USD)=%{y}<extra></extra>",
         "legendgroup": "Vape Product",
         "marker": {
          "color": "#636efa",
          "pattern": {
           "shape": ""
          }
         },
         "name": "Vape Product",
         "offsetgroup": "Vape Product",
         "orientation": "v",
         "showlegend": false,
         "textposition": "auto",
         "type": "bar",
         "x": [
          "Vape Product"
         ],
         "xaxis": "x3",
         "y": [
          847280
         ],
         "yaxis": "y3"
        },
        {
         "alignmentgroup": "True",
         "hovertemplate": "=%{x}<br>Date=4/4/2024<br>Total Sales (USD)=%{y}<extra></extra>",
         "legendgroup": "Vape Product",
         "marker": {
          "color": "#636efa",
          "pattern": {
           "shape": ""
          }
         },
         "name": "Vape Product",
         "offsetgroup": "Vape Product",
         "orientation": "v",
         "showlegend": false,
         "textposition": "auto",
         "type": "bar",
         "x": [
          "Vape Product"
         ],
         "xaxis": "x4",
         "y": [
          795267
         ],
         "yaxis": "y4"
        },
        {
         "alignmentgroup": "True",
         "hovertemplate": "=%{x}<br>Date=4/5/2024<br>Total Sales (USD)=%{y}<extra></extra>",
         "legendgroup": "Vape Product",
         "marker": {
          "color": "#636efa",
          "pattern": {
           "shape": ""
          }
         },
         "name": "Vape Product",
         "offsetgroup": "Vape Product",
         "orientation": "v",
         "showlegend": false,
         "textposition": "auto",
         "type": "bar",
         "x": [
          "Vape Product"
         ],
         "xaxis": "x5",
         "y": [
          1122960
         ],
         "yaxis": "y5"
        },
        {
         "alignmentgroup": "True",
         "hovertemplate": "=%{x}<br>Date=4/6/2024<br>Total Sales (USD)=%{y}<extra></extra>",
         "legendgroup": "Vape Product",
         "marker": {
          "color": "#636efa",
          "pattern": {
           "shape": ""
          }
         },
         "name": "Vape Product",
         "offsetgroup": "Vape Product",
         "orientation": "v",
         "showlegend": false,
         "textposition": "auto",
         "type": "bar",
         "x": [
          "Vape Product"
         ],
         "xaxis": "x6",
         "y": [
          1004883
         ],
         "yaxis": "y6"
        },
        {
         "alignmentgroup": "True",
         "hovertemplate": "=%{x}<br>Date=4/7/2024<br>Total Sales (USD)=%{y}<extra></extra>",
         "legendgroup": "Vape Product",
         "marker": {
          "color": "#636efa",
          "pattern": {
           "shape": ""
          }
         },
         "name": "Vape Product",
         "offsetgroup": "Vape Product",
         "orientation": "v",
         "showlegend": false,
         "textposition": "auto",
         "type": "bar",
         "x": [
          "Vape Product"
         ],
         "xaxis": "x7",
         "y": [
          783153
         ],
         "yaxis": "y7"
        },
        {
         "alignmentgroup": "True",
         "hovertemplate": "=%{x}<br>Date=4/6/2024<br>Total Sales (USD)=%{y}<extra></extra>",
         "legendgroup": "Immature Plants",
         "marker": {
          "color": "#EF553B",
          "pattern": {
           "shape": ""
          }
         },
         "name": "Immature Plants",
         "offsetgroup": "Immature Plants",
         "orientation": "v",
         "showlegend": true,
         "textposition": "auto",
         "type": "bar",
         "x": [
          "Immature Plants"
         ],
         "xaxis": "x6",
         "y": [
          5452
         ],
         "yaxis": "y6"
        }
       ],
       "layout": {
        "annotations": [
         {
          "font": {},
          "showarrow": false,
          "text": " 4/1/2024",
          "x": 0.06285714285714285,
          "xanchor": "center",
          "xref": "paper",
          "y": 1,
          "yanchor": "bottom",
          "yref": "paper"
         },
         {
          "font": {},
          "showarrow": false,
          "text": " 4/2/2024",
          "x": 0.20857142857142852,
          "xanchor": "center",
          "xref": "paper",
          "y": 1,
          "yanchor": "bottom",
          "yref": "paper"
         },
         {
          "font": {},
          "showarrow": false,
          "text": " 4/3/2024",
          "x": 0.3542857142857142,
          "xanchor": "center",
          "xref": "paper",
          "y": 1,
          "yanchor": "bottom",
          "yref": "paper"
         },
         {
          "font": {},
          "showarrow": false,
          "text": " 4/4/2024",
          "x": 0.5,
          "xanchor": "center",
          "xref": "paper",
          "y": 1,
          "yanchor": "bottom",
          "yref": "paper"
         },
         {
          "font": {},
          "showarrow": false,
          "text": " 4/5/2024",
          "x": 0.6457142857142856,
          "xanchor": "center",
          "xref": "paper",
          "y": 1,
          "yanchor": "bottom",
          "yref": "paper"
         },
         {
          "font": {},
          "showarrow": false,
          "text": " 4/6/2024",
          "x": 0.7914285714285713,
          "xanchor": "center",
          "xref": "paper",
          "y": 1,
          "yanchor": "bottom",
          "yref": "paper"
         },
         {
          "font": {},
          "showarrow": false,
          "text": " 4/7/2024",
          "x": 0.9371428571428569,
          "xanchor": "center",
          "xref": "paper",
          "y": 1,
          "yanchor": "bottom",
          "yref": "paper"
         }
        ],
        "barmode": "relative",
        "height": 800,
        "legend": {
         "title": {
          "text": ""
         },
         "tracegroupgap": 0
        },
        "showlegend": true,
        "template": {
         "data": {
          "bar": [
           {
            "error_x": {
             "color": "#2a3f5f"
            },
            "error_y": {
             "color": "#2a3f5f"
            },
            "marker": {
             "line": {
              "color": "#E5ECF6",
              "width": 0.5
             },
             "pattern": {
              "fillmode": "overlay",
              "size": 10,
              "solidity": 0.2
             }
            },
            "type": "bar"
           }
          ],
          "barpolar": [
           {
            "marker": {
             "line": {
              "color": "#E5ECF6",
              "width": 0.5
             },
             "pattern": {
              "fillmode": "overlay",
              "size": 10,
              "solidity": 0.2
             }
            },
            "type": "barpolar"
           }
          ],
          "carpet": [
           {
            "aaxis": {
             "endlinecolor": "#2a3f5f",
             "gridcolor": "white",
             "linecolor": "white",
             "minorgridcolor": "white",
             "startlinecolor": "#2a3f5f"
            },
            "baxis": {
             "endlinecolor": "#2a3f5f",
             "gridcolor": "white",
             "linecolor": "white",
             "minorgridcolor": "white",
             "startlinecolor": "#2a3f5f"
            },
            "type": "carpet"
           }
          ],
          "choropleth": [
           {
            "colorbar": {
             "outlinewidth": 0,
             "ticks": ""
            },
            "type": "choropleth"
           }
          ],
          "contour": [
           {
            "colorbar": {
             "outlinewidth": 0,
             "ticks": ""
            },
            "colorscale": [
             [
              0,
              "#0d0887"
             ],
             [
              0.1111111111111111,
              "#46039f"
             ],
             [
              0.2222222222222222,
              "#7201a8"
             ],
             [
              0.3333333333333333,
              "#9c179e"
             ],
             [
              0.4444444444444444,
              "#bd3786"
             ],
             [
              0.5555555555555556,
              "#d8576b"
             ],
             [
              0.6666666666666666,
              "#ed7953"
             ],
             [
              0.7777777777777778,
              "#fb9f3a"
             ],
             [
              0.8888888888888888,
              "#fdca26"
             ],
             [
              1,
              "#f0f921"
             ]
            ],
            "type": "contour"
           }
          ],
          "contourcarpet": [
           {
            "colorbar": {
             "outlinewidth": 0,
             "ticks": ""
            },
            "type": "contourcarpet"
           }
          ],
          "heatmap": [
           {
            "colorbar": {
             "outlinewidth": 0,
             "ticks": ""
            },
            "colorscale": [
             [
              0,
              "#0d0887"
             ],
             [
              0.1111111111111111,
              "#46039f"
             ],
             [
              0.2222222222222222,
              "#7201a8"
             ],
             [
              0.3333333333333333,
              "#9c179e"
             ],
             [
              0.4444444444444444,
              "#bd3786"
             ],
             [
              0.5555555555555556,
              "#d8576b"
             ],
             [
              0.6666666666666666,
              "#ed7953"
             ],
             [
              0.7777777777777778,
              "#fb9f3a"
             ],
             [
              0.8888888888888888,
              "#fdca26"
             ],
             [
              1,
              "#f0f921"
             ]
            ],
            "type": "heatmap"
           }
          ],
          "heatmapgl": [
           {
            "colorbar": {
             "outlinewidth": 0,
             "ticks": ""
            },
            "colorscale": [
             [
              0,
              "#0d0887"
             ],
             [
              0.1111111111111111,
              "#46039f"
             ],
             [
              0.2222222222222222,
              "#7201a8"
             ],
             [
              0.3333333333333333,
              "#9c179e"
             ],
             [
              0.4444444444444444,
              "#bd3786"
             ],
             [
              0.5555555555555556,
              "#d8576b"
             ],
             [
              0.6666666666666666,
              "#ed7953"
             ],
             [
              0.7777777777777778,
              "#fb9f3a"
             ],
             [
              0.8888888888888888,
              "#fdca26"
             ],
             [
              1,
              "#f0f921"
             ]
            ],
            "type": "heatmapgl"
           }
          ],
          "histogram": [
           {
            "marker": {
             "pattern": {
              "fillmode": "overlay",
              "size": 10,
              "solidity": 0.2
             }
            },
            "type": "histogram"
           }
          ],
          "histogram2d": [
           {
            "colorbar": {
             "outlinewidth": 0,
             "ticks": ""
            },
            "colorscale": [
             [
              0,
              "#0d0887"
             ],
             [
              0.1111111111111111,
              "#46039f"
             ],
             [
              0.2222222222222222,
              "#7201a8"
             ],
             [
              0.3333333333333333,
              "#9c179e"
             ],
             [
              0.4444444444444444,
              "#bd3786"
             ],
             [
              0.5555555555555556,
              "#d8576b"
             ],
             [
              0.6666666666666666,
              "#ed7953"
             ],
             [
              0.7777777777777778,
              "#fb9f3a"
             ],
             [
              0.8888888888888888,
              "#fdca26"
             ],
             [
              1,
              "#f0f921"
             ]
            ],
            "type": "histogram2d"
           }
          ],
          "histogram2dcontour": [
           {
            "colorbar": {
             "outlinewidth": 0,
             "ticks": ""
            },
            "colorscale": [
             [
              0,
              "#0d0887"
             ],
             [
              0.1111111111111111,
              "#46039f"
             ],
             [
              0.2222222222222222,
              "#7201a8"
             ],
             [
              0.3333333333333333,
              "#9c179e"
             ],
             [
              0.4444444444444444,
              "#bd3786"
             ],
             [
              0.5555555555555556,
              "#d8576b"
             ],
             [
              0.6666666666666666,
              "#ed7953"
             ],
             [
              0.7777777777777778,
              "#fb9f3a"
             ],
             [
              0.8888888888888888,
              "#fdca26"
             ],
             [
              1,
              "#f0f921"
             ]
            ],
            "type": "histogram2dcontour"
           }
          ],
          "mesh3d": [
           {
            "colorbar": {
             "outlinewidth": 0,
             "ticks": ""
            },
            "type": "mesh3d"
           }
          ],
          "parcoords": [
           {
            "line": {
             "colorbar": {
              "outlinewidth": 0,
              "ticks": ""
             }
            },
            "type": "parcoords"
           }
          ],
          "pie": [
           {
            "automargin": true,
            "type": "pie"
           }
          ],
          "scatter": [
           {
            "fillpattern": {
             "fillmode": "overlay",
             "size": 10,
             "solidity": 0.2
            },
            "type": "scatter"
           }
          ],
          "scatter3d": [
           {
            "line": {
             "colorbar": {
              "outlinewidth": 0,
              "ticks": ""
             }
            },
            "marker": {
             "colorbar": {
              "outlinewidth": 0,
              "ticks": ""
             }
            },
            "type": "scatter3d"
           }
          ],
          "scattercarpet": [
           {
            "marker": {
             "colorbar": {
              "outlinewidth": 0,
              "ticks": ""
             }
            },
            "type": "scattercarpet"
           }
          ],
          "scattergeo": [
           {
            "marker": {
             "colorbar": {
              "outlinewidth": 0,
              "ticks": ""
             }
            },
            "type": "scattergeo"
           }
          ],
          "scattergl": [
           {
            "marker": {
             "colorbar": {
              "outlinewidth": 0,
              "ticks": ""
             }
            },
            "type": "scattergl"
           }
          ],
          "scattermapbox": [
           {
            "marker": {
             "colorbar": {
              "outlinewidth": 0,
              "ticks": ""
             }
            },
            "type": "scattermapbox"
           }
          ],
          "scatterpolar": [
           {
            "marker": {
             "colorbar": {
              "outlinewidth": 0,
              "ticks": ""
             }
            },
            "type": "scatterpolar"
           }
          ],
          "scatterpolargl": [
           {
            "marker": {
             "colorbar": {
              "outlinewidth": 0,
              "ticks": ""
             }
            },
            "type": "scatterpolargl"
           }
          ],
          "scatterternary": [
           {
            "marker": {
             "colorbar": {
              "outlinewidth": 0,
              "ticks": ""
             }
            },
            "type": "scatterternary"
           }
          ],
          "surface": [
           {
            "colorbar": {
             "outlinewidth": 0,
             "ticks": ""
            },
            "colorscale": [
             [
              0,
              "#0d0887"
             ],
             [
              0.1111111111111111,
              "#46039f"
             ],
             [
              0.2222222222222222,
              "#7201a8"
             ],
             [
              0.3333333333333333,
              "#9c179e"
             ],
             [
              0.4444444444444444,
              "#bd3786"
             ],
             [
              0.5555555555555556,
              "#d8576b"
             ],
             [
              0.6666666666666666,
              "#ed7953"
             ],
             [
              0.7777777777777778,
              "#fb9f3a"
             ],
             [
              0.8888888888888888,
              "#fdca26"
             ],
             [
              1,
              "#f0f921"
             ]
            ],
            "type": "surface"
           }
          ],
          "table": [
           {
            "cells": {
             "fill": {
              "color": "#EBF0F8"
             },
             "line": {
              "color": "white"
             }
            },
            "header": {
             "fill": {
              "color": "#C8D4E3"
             },
             "line": {
              "color": "white"
             }
            },
            "type": "table"
           }
          ]
         },
         "layout": {
          "annotationdefaults": {
           "arrowcolor": "#2a3f5f",
           "arrowhead": 0,
           "arrowwidth": 1
          },
          "autotypenumbers": "strict",
          "coloraxis": {
           "colorbar": {
            "outlinewidth": 0,
            "ticks": ""
           }
          },
          "colorscale": {
           "diverging": [
            [
             0,
             "#8e0152"
            ],
            [
             0.1,
             "#c51b7d"
            ],
            [
             0.2,
             "#de77ae"
            ],
            [
             0.3,
             "#f1b6da"
            ],
            [
             0.4,
             "#fde0ef"
            ],
            [
             0.5,
             "#f7f7f7"
            ],
            [
             0.6,
             "#e6f5d0"
            ],
            [
             0.7,
             "#b8e186"
            ],
            [
             0.8,
             "#7fbc41"
            ],
            [
             0.9,
             "#4d9221"
            ],
            [
             1,
             "#276419"
            ]
           ],
           "sequential": [
            [
             0,
             "#0d0887"
            ],
            [
             0.1111111111111111,
             "#46039f"
            ],
            [
             0.2222222222222222,
             "#7201a8"
            ],
            [
             0.3333333333333333,
             "#9c179e"
            ],
            [
             0.4444444444444444,
             "#bd3786"
            ],
            [
             0.5555555555555556,
             "#d8576b"
            ],
            [
             0.6666666666666666,
             "#ed7953"
            ],
            [
             0.7777777777777778,
             "#fb9f3a"
            ],
            [
             0.8888888888888888,
             "#fdca26"
            ],
            [
             1,
             "#f0f921"
            ]
           ],
           "sequentialminus": [
            [
             0,
             "#0d0887"
            ],
            [
             0.1111111111111111,
             "#46039f"
            ],
            [
             0.2222222222222222,
             "#7201a8"
            ],
            [
             0.3333333333333333,
             "#9c179e"
            ],
            [
             0.4444444444444444,
             "#bd3786"
            ],
            [
             0.5555555555555556,
             "#d8576b"
            ],
            [
             0.6666666666666666,
             "#ed7953"
            ],
            [
             0.7777777777777778,
             "#fb9f3a"
            ],
            [
             0.8888888888888888,
             "#fdca26"
            ],
            [
             1,
             "#f0f921"
            ]
           ]
          },
          "colorway": [
           "#636efa",
           "#EF553B",
           "#00cc96",
           "#ab63fa",
           "#FFA15A",
           "#19d3f3",
           "#FF6692",
           "#B6E880",
           "#FF97FF",
           "#FECB52"
          ],
          "font": {
           "color": "#2a3f5f"
          },
          "geo": {
           "bgcolor": "white",
           "lakecolor": "white",
           "landcolor": "#E5ECF6",
           "showlakes": true,
           "showland": true,
           "subunitcolor": "white"
          },
          "hoverlabel": {
           "align": "left"
          },
          "hovermode": "closest",
          "mapbox": {
           "style": "light"
          },
          "paper_bgcolor": "white",
          "plot_bgcolor": "#E5ECF6",
          "polar": {
           "angularaxis": {
            "gridcolor": "white",
            "linecolor": "white",
            "ticks": ""
           },
           "bgcolor": "#E5ECF6",
           "radialaxis": {
            "gridcolor": "white",
            "linecolor": "white",
            "ticks": ""
           }
          },
          "scene": {
           "xaxis": {
            "backgroundcolor": "#E5ECF6",
            "gridcolor": "white",
            "gridwidth": 2,
            "linecolor": "white",
            "showbackground": true,
            "ticks": "",
            "zerolinecolor": "white"
           },
           "yaxis": {
            "backgroundcolor": "#E5ECF6",
            "gridcolor": "white",
            "gridwidth": 2,
            "linecolor": "white",
            "showbackground": true,
            "ticks": "",
            "zerolinecolor": "white"
           },
           "zaxis": {
            "backgroundcolor": "#E5ECF6",
            "gridcolor": "white",
            "gridwidth": 2,
            "linecolor": "white",
            "showbackground": true,
            "ticks": "",
            "zerolinecolor": "white"
           }
          },
          "shapedefaults": {
           "line": {
            "color": "#2a3f5f"
           }
          },
          "ternary": {
           "aaxis": {
            "gridcolor": "white",
            "linecolor": "white",
            "ticks": ""
           },
           "baxis": {
            "gridcolor": "white",
            "linecolor": "white",
            "ticks": ""
           },
           "bgcolor": "#E5ECF6",
           "caxis": {
            "gridcolor": "white",
            "linecolor": "white",
            "ticks": ""
           }
          },
          "title": {
           "x": 0.05
          },
          "xaxis": {
           "automargin": true,
           "gridcolor": "white",
           "linecolor": "white",
           "ticks": "",
           "title": {
            "standoff": 15
           },
           "zerolinecolor": "white",
           "zerolinewidth": 2
          },
          "yaxis": {
           "automargin": true,
           "gridcolor": "white",
           "linecolor": "white",
           "ticks": "",
           "title": {
            "standoff": 15
           },
           "zerolinecolor": "white",
           "zerolinewidth": 2
          }
         }
        },
        "title": {
         "text": "Total Sales by Product and Date",
         "x": 0.5
        },
        "width": 1200,
        "xaxis": {
         "anchor": "y",
         "categoryarray": [
          "Buds",
          "Concentrate",
          "Concentrate (Each)",
          "Infused (edible)",
          "Infused (non-edible)",
          "Infused Beverage",
          "Infused Pre-Rolls",
          "Raw Pre-Rolls",
          "Shake/Trim",
          "Shake/Trim (by strain)",
          "Vape Product",
          "Immature Plants"
         ],
         "categoryorder": "array",
         "domain": [
          0,
          0.1257142857142857
         ],
         "ticks": "outside",
         "title": {
          "text": " "
         },
         "type": "category"
        },
        "xaxis2": {
         "anchor": "y2",
         "categoryarray": [
          "Buds",
          "Concentrate",
          "Concentrate (Each)",
          "Infused (edible)",
          "Infused (non-edible)",
          "Infused Beverage",
          "Infused Pre-Rolls",
          "Raw Pre-Rolls",
          "Shake/Trim",
          "Shake/Trim (by strain)",
          "Vape Product",
          "Immature Plants"
         ],
         "categoryorder": "array",
         "domain": [
          0.14571428571428569,
          0.27142857142857135
         ],
         "matches": "x",
         "title": {
          "text": ""
         }
        },
        "xaxis3": {
         "anchor": "y3",
         "categoryarray": [
          "Buds",
          "Concentrate",
          "Concentrate (Each)",
          "Infused (edible)",
          "Infused (non-edible)",
          "Infused Beverage",
          "Infused Pre-Rolls",
          "Raw Pre-Rolls",
          "Shake/Trim",
          "Shake/Trim (by strain)",
          "Vape Product",
          "Immature Plants"
         ],
         "categoryorder": "array",
         "domain": [
          0.29142857142857137,
          0.41714285714285704
         ],
         "matches": "x",
         "title": {
          "text": ""
         }
        },
        "xaxis4": {
         "anchor": "y4",
         "categoryarray": [
          "Buds",
          "Concentrate",
          "Concentrate (Each)",
          "Infused (edible)",
          "Infused (non-edible)",
          "Infused Beverage",
          "Infused Pre-Rolls",
          "Raw Pre-Rolls",
          "Shake/Trim",
          "Shake/Trim (by strain)",
          "Vape Product",
          "Immature Plants"
         ],
         "categoryorder": "array",
         "domain": [
          0.4371428571428571,
          0.5628571428571428
         ],
         "matches": "x",
         "title": {
          "text": ""
         }
        },
        "xaxis5": {
         "anchor": "y5",
         "categoryarray": [
          "Buds",
          "Concentrate",
          "Concentrate (Each)",
          "Infused (edible)",
          "Infused (non-edible)",
          "Infused Beverage",
          "Infused Pre-Rolls",
          "Raw Pre-Rolls",
          "Shake/Trim",
          "Shake/Trim (by strain)",
          "Vape Product",
          "Immature Plants"
         ],
         "categoryorder": "array",
         "domain": [
          0.5828571428571427,
          0.7085714285714284
         ],
         "matches": "x",
         "title": {
          "text": ""
         }
        },
        "xaxis6": {
         "anchor": "y6",
         "categoryarray": [
          "Buds",
          "Concentrate",
          "Concentrate (Each)",
          "Infused (edible)",
          "Infused (non-edible)",
          "Infused Beverage",
          "Infused Pre-Rolls",
          "Raw Pre-Rolls",
          "Shake/Trim",
          "Shake/Trim (by strain)",
          "Vape Product",
          "Immature Plants"
         ],
         "categoryorder": "array",
         "domain": [
          0.7285714285714284,
          0.8542857142857141
         ],
         "matches": "x",
         "title": {
          "text": ""
         }
        },
        "xaxis7": {
         "anchor": "y7",
         "categoryarray": [
          "Buds",
          "Concentrate",
          "Concentrate (Each)",
          "Infused (edible)",
          "Infused (non-edible)",
          "Infused Beverage",
          "Infused Pre-Rolls",
          "Raw Pre-Rolls",
          "Shake/Trim",
          "Shake/Trim (by strain)",
          "Vape Product",
          "Immature Plants"
         ],
         "categoryorder": "array",
         "domain": [
          0.8742857142857141,
          0.9999999999999998
         ],
         "matches": "x",
         "title": {
          "text": ""
         }
        },
        "yaxis": {
         "anchor": "x",
         "domain": [
          0,
          1
         ],
         "title": {
          "text": "Total Sales"
         }
        },
        "yaxis2": {
         "anchor": "x2",
         "domain": [
          0,
          1
         ],
         "matches": "y",
         "showticklabels": false
        },
        "yaxis3": {
         "anchor": "x3",
         "domain": [
          0,
          1
         ],
         "matches": "y",
         "showticklabels": false
        },
        "yaxis4": {
         "anchor": "x4",
         "domain": [
          0,
          1
         ],
         "matches": "y",
         "showticklabels": false
        },
        "yaxis5": {
         "anchor": "x5",
         "domain": [
          0,
          1
         ],
         "matches": "y",
         "showticklabels": false
        },
        "yaxis6": {
         "anchor": "x6",
         "domain": [
          0,
          1
         ],
         "matches": "y",
         "showticklabels": false
        },
        "yaxis7": {
         "anchor": "x7",
         "domain": [
          0,
          1
         ],
         "matches": "y",
         "showticklabels": false
        }
       }
      }
     },
     "metadata": {},
     "output_type": "display_data"
    }
   ],
   "source": [
    "\n",
    "\n",
    "# Sample data\n",
    "# df = pd.DataFrame({\n",
    "#     \"Product\": [\"Buds\", \"Vape Product\", \"Infused (edible)\", \"Raw Pre-Rolls\"],\n",
    "#     \"Total Sales\": [4000000, 1750000, 1125000, 1000000],\n",
    "#     \"Date\": [\"2023-01-01\", \"2023-01-02\", \"2023-01-03\", \"2023-01-04\"]\n",
    "# })\n",
    "\n",
    "# Create the figure with facets\n",
    "fig = px.bar(filtered_df,\n",
    "             x='ProductCategoryName',  # Use product as the x-axis\n",
    "             y='TotalPrice',\n",
    "             color='ProductCategoryName',  # Color based on sales value\n",
    "             color_continuous_scale=px.colors.sequential.Plasma,\n",
    "             facet_col='date',  # Facet by date\n",
    "            \n",
    "             labels={'TotalPrice': 'Total Sales (USD)', 'date': 'Date', 'ProductCategoryName': ''},\n",
    "             title='Total Sales by Product and Date')\n",
    "\n",
    "# Update layout to adjust the axes and facet spacing\n",
    "fig.update_layout(\n",
    "    xaxis_title=\" \",\n",
    "    yaxis_title=\"Total Sales\",\n",
    "    xaxis={'type': 'category'},  # This ensures the categories (Products) are treated distinctly\n",
    "    xaxis_ticks=\"outside\",  # Ticks are shown outside\n",
    "    showlegend= True ,# Hide the legend if not needed\n",
    "    title_x= 0.5    \n",
    ")\n",
    "\n",
    "# Add vertical lines and additional customizations if necessary\n",
    "# for date in df['Date'].unique():\n",
    "#     fig.add_vline(x=date, line_width=2, line_dash=\"dash\", line_color=\"red\")\n",
    "def custom_facet_col_wrap(facet_col_vals):\n",
    "    return [val.split('=')[1] for val in facet_col_vals]\n",
    "    \n",
    "fig.for_each_annotation(lambda a: a.update(text=f\" {a.text.split('=')[1]}\"))\n",
    "fig.update_layout(width=1200, height=800)\n",
    "fig.show()\n"
   ]
  },
  {
   "cell_type": "code",
   "execution_count": 22,
   "metadata": {},
   "outputs": [
    {
     "data": {
      "application/vnd.plotly.v1+json": {
       "config": {
        "plotlyServerURL": "https://plot.ly"
       },
       "data": [
        {
         "alignmentgroup": "True",
         "hovertemplate": "Product=Buds<br>Date=%{x}<br>Total Sales (USD)=%{y}<extra></extra>",
         "legendgroup": "Buds",
         "marker": {
          "color": "#636efa",
          "pattern": {
           "shape": ""
          }
         },
         "name": "Buds",
         "offsetgroup": "Buds",
         "orientation": "v",
         "showlegend": true,
         "textposition": "auto",
         "type": "bar",
         "x": [
          "4/1/2024",
          "4/2/2024",
          "4/3/2024",
          "4/4/2024",
          "4/5/2024",
          "4/6/2024",
          "4/7/2024"
         ],
         "xaxis": "x",
         "y": [
          1743607,
          1653518,
          1798737,
          1712777,
          2389197,
          2077191,
          1637524
         ],
         "yaxis": "y"
        },
        {
         "alignmentgroup": "True",
         "hovertemplate": "Product=Concentrate<br>Date=%{x}<br>Total Sales (USD)=%{y}<extra></extra>",
         "legendgroup": "Concentrate",
         "marker": {
          "color": "#EF553B",
          "pattern": {
           "shape": ""
          }
         },
         "name": "Concentrate",
         "offsetgroup": "Concentrate",
         "orientation": "v",
         "showlegend": true,
         "textposition": "auto",
         "type": "bar",
         "x": [
          "4/1/2024",
          "4/2/2024",
          "4/3/2024",
          "4/4/2024",
          "4/5/2024",
          "4/6/2024",
          "4/7/2024"
         ],
         "xaxis": "x2",
         "y": [
          25209,
          26228,
          31489,
          27529,
          33646,
          32437,
          23456
         ],
         "yaxis": "y2"
        },
        {
         "alignmentgroup": "True",
         "hovertemplate": "Product=Concentrate (Bulk)<br>Date=%{x}<br>Total Sales (USD)=%{y}<extra></extra>",
         "legendgroup": "Concentrate (Bulk)",
         "marker": {
          "color": "#00cc96",
          "pattern": {
           "shape": ""
          }
         },
         "name": "Concentrate (Bulk)",
         "offsetgroup": "Concentrate (Bulk)",
         "orientation": "v",
         "showlegend": true,
         "textposition": "auto",
         "type": "bar",
         "x": [
          "4/1/2024",
          "4/2/2024",
          "4/3/2024",
          "4/4/2024",
          "4/5/2024",
          "4/6/2024",
          "4/7/2024"
         ],
         "xaxis": "x3",
         "y": [
          355,
          825,
          268,
          258,
          745,
          323,
          546
         ],
         "yaxis": "y3"
        },
        {
         "alignmentgroup": "True",
         "hovertemplate": "Product=Concentrate (Each)<br>Date=%{x}<br>Total Sales (USD)=%{y}<extra></extra>",
         "legendgroup": "Concentrate (Each)",
         "marker": {
          "color": "#ab63fa",
          "pattern": {
           "shape": ""
          }
         },
         "name": "Concentrate (Each)",
         "offsetgroup": "Concentrate (Each)",
         "orientation": "v",
         "showlegend": true,
         "textposition": "auto",
         "type": "bar",
         "x": [
          "4/1/2024",
          "4/2/2024",
          "4/3/2024",
          "4/4/2024",
          "4/5/2024",
          "4/6/2024",
          "4/7/2024"
         ],
         "xaxis": "x4",
         "y": [
          177008,
          164465,
          193654,
          182292,
          266418,
          233669,
          188865
         ],
         "yaxis": "y4"
        },
        {
         "alignmentgroup": "True",
         "hovertemplate": "Product=Infused (edible)<br>Date=%{x}<br>Total Sales (USD)=%{y}<extra></extra>",
         "legendgroup": "Infused (edible)",
         "marker": {
          "color": "#FFA15A",
          "pattern": {
           "shape": ""
          }
         },
         "name": "Infused (edible)",
         "offsetgroup": "Infused (edible)",
         "orientation": "v",
         "showlegend": true,
         "textposition": "auto",
         "type": "bar",
         "x": [
          "4/1/2024",
          "4/2/2024",
          "4/3/2024",
          "4/4/2024",
          "4/5/2024",
          "4/6/2024",
          "4/7/2024"
         ],
         "xaxis": "x5",
         "y": [
          443236,
          441704,
          445966,
          423370,
          698392,
          698379,
          487197
         ],
         "yaxis": "y5"
        },
        {
         "alignmentgroup": "True",
         "hovertemplate": "Product=Infused (non-edible)<br>Date=%{x}<br>Total Sales (USD)=%{y}<extra></extra>",
         "legendgroup": "Infused (non-edible)",
         "marker": {
          "color": "#19d3f3",
          "pattern": {
           "shape": ""
          }
         },
         "name": "Infused (non-edible)",
         "offsetgroup": "Infused (non-edible)",
         "orientation": "v",
         "showlegend": true,
         "textposition": "auto",
         "type": "bar",
         "x": [
          "4/1/2024",
          "4/2/2024",
          "4/3/2024",
          "4/4/2024",
          "4/5/2024",
          "4/6/2024",
          "4/7/2024"
         ],
         "xaxis": "x6",
         "y": [
          15133,
          15338,
          14438,
          12240,
          19981,
          26050,
          15309
         ],
         "yaxis": "y6"
        },
        {
         "alignmentgroup": "True",
         "hovertemplate": "Product=Infused Beverage<br>Date=%{x}<br>Total Sales (USD)=%{y}<extra></extra>",
         "legendgroup": "Infused Beverage",
         "marker": {
          "color": "#FF6692",
          "pattern": {
           "shape": ""
          }
         },
         "name": "Infused Beverage",
         "offsetgroup": "Infused Beverage",
         "orientation": "v",
         "showlegend": true,
         "textposition": "auto",
         "type": "bar",
         "x": [
          "4/1/2024",
          "4/2/2024",
          "4/3/2024",
          "4/4/2024",
          "4/5/2024",
          "4/6/2024",
          "4/7/2024"
         ],
         "xaxis": "x7",
         "y": [
          20058,
          20659,
          20635,
          21369,
          44779,
          47279,
          27539
         ],
         "yaxis": "y7"
        },
        {
         "alignmentgroup": "True",
         "hovertemplate": "Product=Infused Pre-Rolls<br>Date=%{x}<br>Total Sales (USD)=%{y}<extra></extra>",
         "legendgroup": "Infused Pre-Rolls",
         "marker": {
          "color": "#B6E880",
          "pattern": {
           "shape": ""
          }
         },
         "name": "Infused Pre-Rolls",
         "offsetgroup": "Infused Pre-Rolls",
         "orientation": "v",
         "showlegend": true,
         "textposition": "auto",
         "type": "bar",
         "x": [
          "4/1/2024",
          "4/2/2024",
          "4/3/2024",
          "4/4/2024",
          "4/5/2024",
          "4/6/2024",
          "4/7/2024"
         ],
         "xaxis": "x8",
         "y": [
          86988,
          85732,
          93927,
          95613,
          133010,
          126065,
          95129
         ],
         "yaxis": "y8"
        },
        {
         "alignmentgroup": "True",
         "hovertemplate": "Product=Kief<br>Date=%{x}<br>Total Sales (USD)=%{y}<extra></extra>",
         "legendgroup": "Kief",
         "marker": {
          "color": "#FF97FF",
          "pattern": {
           "shape": ""
          }
         },
         "name": "Kief",
         "offsetgroup": "Kief",
         "orientation": "v",
         "showlegend": true,
         "textposition": "auto",
         "type": "bar",
         "x": [
          "4/1/2024",
          "4/2/2024",
          "4/3/2024",
          "4/4/2024",
          "4/5/2024",
          "4/6/2024",
          "4/7/2024"
         ],
         "xaxis": "x9",
         "y": [
          1854,
          1100,
          1189,
          1619,
          2400,
          2452,
          1240
         ],
         "yaxis": "y9"
        },
        {
         "alignmentgroup": "True",
         "hovertemplate": "Product=Raw Pre-Rolls<br>Date=%{x}<br>Total Sales (USD)=%{y}<extra></extra>",
         "legendgroup": "Raw Pre-Rolls",
         "marker": {
          "color": "#FECB52",
          "pattern": {
           "shape": ""
          }
         },
         "name": "Raw Pre-Rolls",
         "offsetgroup": "Raw Pre-Rolls",
         "orientation": "v",
         "showlegend": true,
         "textposition": "auto",
         "type": "bar",
         "x": [
          "4/1/2024",
          "4/2/2024",
          "4/3/2024",
          "4/4/2024",
          "4/5/2024",
          "4/6/2024",
          "4/7/2024"
         ],
         "xaxis": "x10",
         "y": [
          638193,
          687502,
          628685,
          617487,
          866883,
          796839,
          611311
         ],
         "yaxis": "y10"
        },
        {
         "alignmentgroup": "True",
         "hovertemplate": "Product=Seeds<br>Date=%{x}<br>Total Sales (USD)=%{y}<extra></extra>",
         "legendgroup": "Seeds",
         "marker": {
          "color": "#636efa",
          "pattern": {
           "shape": ""
          }
         },
         "name": "Seeds",
         "offsetgroup": "Seeds",
         "orientation": "v",
         "showlegend": true,
         "textposition": "auto",
         "type": "bar",
         "x": [
          "4/1/2024",
          "4/2/2024",
          "4/3/2024",
          "4/4/2024",
          "4/5/2024",
          "4/6/2024",
          "4/7/2024"
         ],
         "xaxis": "x11",
         "y": [
          1649,
          413,
          275,
          179,
          458,
          878,
          797
         ],
         "yaxis": "y11"
        },
        {
         "alignmentgroup": "True",
         "hovertemplate": "Product=Shake/Trim<br>Date=%{x}<br>Total Sales (USD)=%{y}<extra></extra>",
         "legendgroup": "Shake/Trim",
         "marker": {
          "color": "#EF553B",
          "pattern": {
           "shape": ""
          }
         },
         "name": "Shake/Trim",
         "offsetgroup": "Shake/Trim",
         "orientation": "v",
         "showlegend": true,
         "textposition": "auto",
         "type": "bar",
         "x": [
          "4/1/2024",
          "4/2/2024",
          "4/3/2024",
          "4/4/2024",
          "4/5/2024",
          "4/6/2024",
          "4/7/2024"
         ],
         "xaxis": "x12",
         "y": [
          33502,
          33538,
          36385,
          34950,
          53767,
          47057,
          37032
         ],
         "yaxis": "y12"
        },
        {
         "alignmentgroup": "True",
         "hovertemplate": "Product=Shake/Trim (by strain)<br>Date=%{x}<br>Total Sales (USD)=%{y}<extra></extra>",
         "legendgroup": "Shake/Trim (by strain)",
         "marker": {
          "color": "#00cc96",
          "pattern": {
           "shape": ""
          }
         },
         "name": "Shake/Trim (by strain)",
         "offsetgroup": "Shake/Trim (by strain)",
         "orientation": "v",
         "showlegend": true,
         "textposition": "auto",
         "type": "bar",
         "x": [
          "4/1/2024",
          "4/2/2024",
          "4/3/2024",
          "4/4/2024",
          "4/5/2024",
          "4/6/2024",
          "4/7/2024"
         ],
         "xaxis": "x13",
         "y": [
          95513,
          89578,
          107693,
          101558,
          136326,
          116053,
          98397
         ],
         "yaxis": "y13"
        },
        {
         "alignmentgroup": "True",
         "hovertemplate": "Product=Suppository<br>Date=%{x}<br>Total Sales (USD)=%{y}<extra></extra>",
         "legendgroup": "Suppository",
         "marker": {
          "color": "#ab63fa",
          "pattern": {
           "shape": ""
          }
         },
         "name": "Suppository",
         "offsetgroup": "Suppository",
         "orientation": "v",
         "showlegend": true,
         "textposition": "auto",
         "type": "bar",
         "x": [
          "4/1/2024",
          "4/2/2024",
          "4/3/2024",
          "4/4/2024",
          "4/5/2024",
          "4/6/2024",
          "4/7/2024"
         ],
         "xaxis": "x14",
         "y": [
          168,
          156,
          24,
          12,
          24,
          120,
          24
         ],
         "yaxis": "y14"
        },
        {
         "alignmentgroup": "True",
         "hovertemplate": "Product=Vape Product<br>Date=%{x}<br>Total Sales (USD)=%{y}<extra></extra>",
         "legendgroup": "Vape Product",
         "marker": {
          "color": "#FFA15A",
          "pattern": {
           "shape": ""
          }
         },
         "name": "Vape Product",
         "offsetgroup": "Vape Product",
         "orientation": "v",
         "showlegend": true,
         "textposition": "auto",
         "type": "bar",
         "x": [
          "4/1/2024",
          "4/2/2024",
          "4/3/2024",
          "4/4/2024",
          "4/5/2024",
          "4/6/2024",
          "4/7/2024"
         ],
         "xaxis": "x15",
         "y": [
          831050,
          782583,
          847280,
          795267,
          1122960,
          1004883,
          783153
         ],
         "yaxis": "y15"
        },
        {
         "alignmentgroup": "True",
         "hovertemplate": "Product=Infused Liquid (Bulk)<br>Date=%{x}<br>Total Sales (USD)=%{y}<extra></extra>",
         "legendgroup": "Infused Liquid (Bulk)",
         "marker": {
          "color": "#19d3f3",
          "pattern": {
           "shape": ""
          }
         },
         "name": "Infused Liquid (Bulk)",
         "offsetgroup": "Infused Liquid (Bulk)",
         "orientation": "v",
         "showlegend": true,
         "textposition": "auto",
         "type": "bar",
         "x": [
          "4/3/2024",
          "4/6/2024"
         ],
         "xaxis": "x16",
         "y": [
          0,
          25
         ],
         "yaxis": "y16"
        },
        {
         "alignmentgroup": "True",
         "hovertemplate": "Product=Immature Plants<br>Date=%{x}<br>Total Sales (USD)=%{y}<extra></extra>",
         "legendgroup": "Immature Plants",
         "marker": {
          "color": "#FF6692",
          "pattern": {
           "shape": ""
          }
         },
         "name": "Immature Plants",
         "offsetgroup": "Immature Plants",
         "orientation": "v",
         "showlegend": true,
         "textposition": "auto",
         "type": "bar",
         "x": [
          "4/5/2024",
          "4/6/2024",
          "4/7/2024"
         ],
         "xaxis": "x17",
         "y": [
          2995,
          5452,
          867
         ],
         "yaxis": "y17"
        }
       ],
       "layout": {
        "annotations": [
         {
          "font": {},
          "showarrow": false,
          "text": " Buds",
          "x": 0.019999999999999997,
          "xanchor": "center",
          "xref": "paper",
          "y": 1,
          "yanchor": "bottom",
          "yref": "paper"
         },
         {
          "font": {},
          "showarrow": false,
          "text": " Concentrate",
          "x": 0.07999999999999999,
          "xanchor": "center",
          "xref": "paper",
          "y": 1,
          "yanchor": "bottom",
          "yref": "paper"
         },
         {
          "font": {},
          "showarrow": false,
          "text": " Concentrate (Bulk)",
          "x": 0.13999999999999999,
          "xanchor": "center",
          "xref": "paper",
          "y": 1,
          "yanchor": "bottom",
          "yref": "paper"
         },
         {
          "font": {},
          "showarrow": false,
          "text": " Concentrate (Each)",
          "x": 0.19999999999999998,
          "xanchor": "center",
          "xref": "paper",
          "y": 1,
          "yanchor": "bottom",
          "yref": "paper"
         },
         {
          "font": {},
          "showarrow": false,
          "text": " Infused (edible)",
          "x": 0.26,
          "xanchor": "center",
          "xref": "paper",
          "y": 1,
          "yanchor": "bottom",
          "yref": "paper"
         },
         {
          "font": {},
          "showarrow": false,
          "text": " Infused (non-edible)",
          "x": 0.31999999999999995,
          "xanchor": "center",
          "xref": "paper",
          "y": 1,
          "yanchor": "bottom",
          "yref": "paper"
         },
         {
          "font": {},
          "showarrow": false,
          "text": " Infused Beverage",
          "x": 0.3799999999999999,
          "xanchor": "center",
          "xref": "paper",
          "y": 1,
          "yanchor": "bottom",
          "yref": "paper"
         },
         {
          "font": {},
          "showarrow": false,
          "text": " Infused Pre-Rolls",
          "x": 0.43999999999999995,
          "xanchor": "center",
          "xref": "paper",
          "y": 1,
          "yanchor": "bottom",
          "yref": "paper"
         },
         {
          "font": {},
          "showarrow": false,
          "text": " Kief",
          "x": 0.4999999999999999,
          "xanchor": "center",
          "xref": "paper",
          "y": 1,
          "yanchor": "bottom",
          "yref": "paper"
         },
         {
          "font": {},
          "showarrow": false,
          "text": " Raw Pre-Rolls",
          "x": 0.5599999999999998,
          "xanchor": "center",
          "xref": "paper",
          "y": 1,
          "yanchor": "bottom",
          "yref": "paper"
         },
         {
          "font": {},
          "showarrow": false,
          "text": " Seeds",
          "x": 0.6199999999999999,
          "xanchor": "center",
          "xref": "paper",
          "y": 1,
          "yanchor": "bottom",
          "yref": "paper"
         },
         {
          "font": {},
          "showarrow": false,
          "text": " Shake/Trim",
          "x": 0.6799999999999998,
          "xanchor": "center",
          "xref": "paper",
          "y": 1,
          "yanchor": "bottom",
          "yref": "paper"
         },
         {
          "font": {},
          "showarrow": false,
          "text": " Shake/Trim (by strain)",
          "x": 0.7399999999999998,
          "xanchor": "center",
          "xref": "paper",
          "y": 1,
          "yanchor": "bottom",
          "yref": "paper"
         },
         {
          "font": {},
          "showarrow": false,
          "text": " Suppository",
          "x": 0.7999999999999998,
          "xanchor": "center",
          "xref": "paper",
          "y": 1,
          "yanchor": "bottom",
          "yref": "paper"
         },
         {
          "font": {},
          "showarrow": false,
          "text": " Vape Product",
          "x": 0.8599999999999999,
          "xanchor": "center",
          "xref": "paper",
          "y": 1,
          "yanchor": "bottom",
          "yref": "paper"
         },
         {
          "font": {},
          "showarrow": false,
          "text": " Infused Liquid (Bulk)",
          "x": 0.9199999999999999,
          "xanchor": "center",
          "xref": "paper",
          "y": 1,
          "yanchor": "bottom",
          "yref": "paper"
         },
         {
          "font": {},
          "showarrow": false,
          "text": " Immature Plants",
          "x": 0.98,
          "xanchor": "center",
          "xref": "paper",
          "y": 1,
          "yanchor": "bottom",
          "yref": "paper"
         }
        ],
        "barmode": "relative",
        "height": 800,
        "legend": {
         "orientation": "v",
         "title": {
          "text": "Product Category"
         },
         "tracegroupgap": 0,
         "x": 1,
         "xanchor": "right",
         "y": 0.5,
         "yanchor": "middle"
        },
        "margin": {
         "t": 100
        },
        "showlegend": true,
        "template": {
         "data": {
          "bar": [
           {
            "error_x": {
             "color": "#2a3f5f"
            },
            "error_y": {
             "color": "#2a3f5f"
            },
            "marker": {
             "line": {
              "color": "#E5ECF6",
              "width": 0.5
             },
             "pattern": {
              "fillmode": "overlay",
              "size": 10,
              "solidity": 0.2
             }
            },
            "type": "bar"
           }
          ],
          "barpolar": [
           {
            "marker": {
             "line": {
              "color": "#E5ECF6",
              "width": 0.5
             },
             "pattern": {
              "fillmode": "overlay",
              "size": 10,
              "solidity": 0.2
             }
            },
            "type": "barpolar"
           }
          ],
          "carpet": [
           {
            "aaxis": {
             "endlinecolor": "#2a3f5f",
             "gridcolor": "white",
             "linecolor": "white",
             "minorgridcolor": "white",
             "startlinecolor": "#2a3f5f"
            },
            "baxis": {
             "endlinecolor": "#2a3f5f",
             "gridcolor": "white",
             "linecolor": "white",
             "minorgridcolor": "white",
             "startlinecolor": "#2a3f5f"
            },
            "type": "carpet"
           }
          ],
          "choropleth": [
           {
            "colorbar": {
             "outlinewidth": 0,
             "ticks": ""
            },
            "type": "choropleth"
           }
          ],
          "contour": [
           {
            "colorbar": {
             "outlinewidth": 0,
             "ticks": ""
            },
            "colorscale": [
             [
              0,
              "#0d0887"
             ],
             [
              0.1111111111111111,
              "#46039f"
             ],
             [
              0.2222222222222222,
              "#7201a8"
             ],
             [
              0.3333333333333333,
              "#9c179e"
             ],
             [
              0.4444444444444444,
              "#bd3786"
             ],
             [
              0.5555555555555556,
              "#d8576b"
             ],
             [
              0.6666666666666666,
              "#ed7953"
             ],
             [
              0.7777777777777778,
              "#fb9f3a"
             ],
             [
              0.8888888888888888,
              "#fdca26"
             ],
             [
              1,
              "#f0f921"
             ]
            ],
            "type": "contour"
           }
          ],
          "contourcarpet": [
           {
            "colorbar": {
             "outlinewidth": 0,
             "ticks": ""
            },
            "type": "contourcarpet"
           }
          ],
          "heatmap": [
           {
            "colorbar": {
             "outlinewidth": 0,
             "ticks": ""
            },
            "colorscale": [
             [
              0,
              "#0d0887"
             ],
             [
              0.1111111111111111,
              "#46039f"
             ],
             [
              0.2222222222222222,
              "#7201a8"
             ],
             [
              0.3333333333333333,
              "#9c179e"
             ],
             [
              0.4444444444444444,
              "#bd3786"
             ],
             [
              0.5555555555555556,
              "#d8576b"
             ],
             [
              0.6666666666666666,
              "#ed7953"
             ],
             [
              0.7777777777777778,
              "#fb9f3a"
             ],
             [
              0.8888888888888888,
              "#fdca26"
             ],
             [
              1,
              "#f0f921"
             ]
            ],
            "type": "heatmap"
           }
          ],
          "heatmapgl": [
           {
            "colorbar": {
             "outlinewidth": 0,
             "ticks": ""
            },
            "colorscale": [
             [
              0,
              "#0d0887"
             ],
             [
              0.1111111111111111,
              "#46039f"
             ],
             [
              0.2222222222222222,
              "#7201a8"
             ],
             [
              0.3333333333333333,
              "#9c179e"
             ],
             [
              0.4444444444444444,
              "#bd3786"
             ],
             [
              0.5555555555555556,
              "#d8576b"
             ],
             [
              0.6666666666666666,
              "#ed7953"
             ],
             [
              0.7777777777777778,
              "#fb9f3a"
             ],
             [
              0.8888888888888888,
              "#fdca26"
             ],
             [
              1,
              "#f0f921"
             ]
            ],
            "type": "heatmapgl"
           }
          ],
          "histogram": [
           {
            "marker": {
             "pattern": {
              "fillmode": "overlay",
              "size": 10,
              "solidity": 0.2
             }
            },
            "type": "histogram"
           }
          ],
          "histogram2d": [
           {
            "colorbar": {
             "outlinewidth": 0,
             "ticks": ""
            },
            "colorscale": [
             [
              0,
              "#0d0887"
             ],
             [
              0.1111111111111111,
              "#46039f"
             ],
             [
              0.2222222222222222,
              "#7201a8"
             ],
             [
              0.3333333333333333,
              "#9c179e"
             ],
             [
              0.4444444444444444,
              "#bd3786"
             ],
             [
              0.5555555555555556,
              "#d8576b"
             ],
             [
              0.6666666666666666,
              "#ed7953"
             ],
             [
              0.7777777777777778,
              "#fb9f3a"
             ],
             [
              0.8888888888888888,
              "#fdca26"
             ],
             [
              1,
              "#f0f921"
             ]
            ],
            "type": "histogram2d"
           }
          ],
          "histogram2dcontour": [
           {
            "colorbar": {
             "outlinewidth": 0,
             "ticks": ""
            },
            "colorscale": [
             [
              0,
              "#0d0887"
             ],
             [
              0.1111111111111111,
              "#46039f"
             ],
             [
              0.2222222222222222,
              "#7201a8"
             ],
             [
              0.3333333333333333,
              "#9c179e"
             ],
             [
              0.4444444444444444,
              "#bd3786"
             ],
             [
              0.5555555555555556,
              "#d8576b"
             ],
             [
              0.6666666666666666,
              "#ed7953"
             ],
             [
              0.7777777777777778,
              "#fb9f3a"
             ],
             [
              0.8888888888888888,
              "#fdca26"
             ],
             [
              1,
              "#f0f921"
             ]
            ],
            "type": "histogram2dcontour"
           }
          ],
          "mesh3d": [
           {
            "colorbar": {
             "outlinewidth": 0,
             "ticks": ""
            },
            "type": "mesh3d"
           }
          ],
          "parcoords": [
           {
            "line": {
             "colorbar": {
              "outlinewidth": 0,
              "ticks": ""
             }
            },
            "type": "parcoords"
           }
          ],
          "pie": [
           {
            "automargin": true,
            "type": "pie"
           }
          ],
          "scatter": [
           {
            "fillpattern": {
             "fillmode": "overlay",
             "size": 10,
             "solidity": 0.2
            },
            "type": "scatter"
           }
          ],
          "scatter3d": [
           {
            "line": {
             "colorbar": {
              "outlinewidth": 0,
              "ticks": ""
             }
            },
            "marker": {
             "colorbar": {
              "outlinewidth": 0,
              "ticks": ""
             }
            },
            "type": "scatter3d"
           }
          ],
          "scattercarpet": [
           {
            "marker": {
             "colorbar": {
              "outlinewidth": 0,
              "ticks": ""
             }
            },
            "type": "scattercarpet"
           }
          ],
          "scattergeo": [
           {
            "marker": {
             "colorbar": {
              "outlinewidth": 0,
              "ticks": ""
             }
            },
            "type": "scattergeo"
           }
          ],
          "scattergl": [
           {
            "marker": {
             "colorbar": {
              "outlinewidth": 0,
              "ticks": ""
             }
            },
            "type": "scattergl"
           }
          ],
          "scattermapbox": [
           {
            "marker": {
             "colorbar": {
              "outlinewidth": 0,
              "ticks": ""
             }
            },
            "type": "scattermapbox"
           }
          ],
          "scatterpolar": [
           {
            "marker": {
             "colorbar": {
              "outlinewidth": 0,
              "ticks": ""
             }
            },
            "type": "scatterpolar"
           }
          ],
          "scatterpolargl": [
           {
            "marker": {
             "colorbar": {
              "outlinewidth": 0,
              "ticks": ""
             }
            },
            "type": "scatterpolargl"
           }
          ],
          "scatterternary": [
           {
            "marker": {
             "colorbar": {
              "outlinewidth": 0,
              "ticks": ""
             }
            },
            "type": "scatterternary"
           }
          ],
          "surface": [
           {
            "colorbar": {
             "outlinewidth": 0,
             "ticks": ""
            },
            "colorscale": [
             [
              0,
              "#0d0887"
             ],
             [
              0.1111111111111111,
              "#46039f"
             ],
             [
              0.2222222222222222,
              "#7201a8"
             ],
             [
              0.3333333333333333,
              "#9c179e"
             ],
             [
              0.4444444444444444,
              "#bd3786"
             ],
             [
              0.5555555555555556,
              "#d8576b"
             ],
             [
              0.6666666666666666,
              "#ed7953"
             ],
             [
              0.7777777777777778,
              "#fb9f3a"
             ],
             [
              0.8888888888888888,
              "#fdca26"
             ],
             [
              1,
              "#f0f921"
             ]
            ],
            "type": "surface"
           }
          ],
          "table": [
           {
            "cells": {
             "fill": {
              "color": "#EBF0F8"
             },
             "line": {
              "color": "white"
             }
            },
            "header": {
             "fill": {
              "color": "#C8D4E3"
             },
             "line": {
              "color": "white"
             }
            },
            "type": "table"
           }
          ]
         },
         "layout": {
          "annotationdefaults": {
           "arrowcolor": "#2a3f5f",
           "arrowhead": 0,
           "arrowwidth": 1
          },
          "autotypenumbers": "strict",
          "coloraxis": {
           "colorbar": {
            "outlinewidth": 0,
            "ticks": ""
           }
          },
          "colorscale": {
           "diverging": [
            [
             0,
             "#8e0152"
            ],
            [
             0.1,
             "#c51b7d"
            ],
            [
             0.2,
             "#de77ae"
            ],
            [
             0.3,
             "#f1b6da"
            ],
            [
             0.4,
             "#fde0ef"
            ],
            [
             0.5,
             "#f7f7f7"
            ],
            [
             0.6,
             "#e6f5d0"
            ],
            [
             0.7,
             "#b8e186"
            ],
            [
             0.8,
             "#7fbc41"
            ],
            [
             0.9,
             "#4d9221"
            ],
            [
             1,
             "#276419"
            ]
           ],
           "sequential": [
            [
             0,
             "#0d0887"
            ],
            [
             0.1111111111111111,
             "#46039f"
            ],
            [
             0.2222222222222222,
             "#7201a8"
            ],
            [
             0.3333333333333333,
             "#9c179e"
            ],
            [
             0.4444444444444444,
             "#bd3786"
            ],
            [
             0.5555555555555556,
             "#d8576b"
            ],
            [
             0.6666666666666666,
             "#ed7953"
            ],
            [
             0.7777777777777778,
             "#fb9f3a"
            ],
            [
             0.8888888888888888,
             "#fdca26"
            ],
            [
             1,
             "#f0f921"
            ]
           ],
           "sequentialminus": [
            [
             0,
             "#0d0887"
            ],
            [
             0.1111111111111111,
             "#46039f"
            ],
            [
             0.2222222222222222,
             "#7201a8"
            ],
            [
             0.3333333333333333,
             "#9c179e"
            ],
            [
             0.4444444444444444,
             "#bd3786"
            ],
            [
             0.5555555555555556,
             "#d8576b"
            ],
            [
             0.6666666666666666,
             "#ed7953"
            ],
            [
             0.7777777777777778,
             "#fb9f3a"
            ],
            [
             0.8888888888888888,
             "#fdca26"
            ],
            [
             1,
             "#f0f921"
            ]
           ]
          },
          "colorway": [
           "#636efa",
           "#EF553B",
           "#00cc96",
           "#ab63fa",
           "#FFA15A",
           "#19d3f3",
           "#FF6692",
           "#B6E880",
           "#FF97FF",
           "#FECB52"
          ],
          "font": {
           "color": "#2a3f5f"
          },
          "geo": {
           "bgcolor": "white",
           "lakecolor": "white",
           "landcolor": "#E5ECF6",
           "showlakes": true,
           "showland": true,
           "subunitcolor": "white"
          },
          "hoverlabel": {
           "align": "left"
          },
          "hovermode": "closest",
          "mapbox": {
           "style": "light"
          },
          "paper_bgcolor": "white",
          "plot_bgcolor": "#E5ECF6",
          "polar": {
           "angularaxis": {
            "gridcolor": "white",
            "linecolor": "white",
            "ticks": ""
           },
           "bgcolor": "#E5ECF6",
           "radialaxis": {
            "gridcolor": "white",
            "linecolor": "white",
            "ticks": ""
           }
          },
          "scene": {
           "xaxis": {
            "backgroundcolor": "#E5ECF6",
            "gridcolor": "white",
            "gridwidth": 2,
            "linecolor": "white",
            "showbackground": true,
            "ticks": "",
            "zerolinecolor": "white"
           },
           "yaxis": {
            "backgroundcolor": "#E5ECF6",
            "gridcolor": "white",
            "gridwidth": 2,
            "linecolor": "white",
            "showbackground": true,
            "ticks": "",
            "zerolinecolor": "white"
           },
           "zaxis": {
            "backgroundcolor": "#E5ECF6",
            "gridcolor": "white",
            "gridwidth": 2,
            "linecolor": "white",
            "showbackground": true,
            "ticks": "",
            "zerolinecolor": "white"
           }
          },
          "shapedefaults": {
           "line": {
            "color": "#2a3f5f"
           }
          },
          "ternary": {
           "aaxis": {
            "gridcolor": "white",
            "linecolor": "white",
            "ticks": ""
           },
           "baxis": {
            "gridcolor": "white",
            "linecolor": "white",
            "ticks": ""
           },
           "bgcolor": "#E5ECF6",
           "caxis": {
            "gridcolor": "white",
            "linecolor": "white",
            "ticks": ""
           }
          },
          "title": {
           "x": 0.05
          },
          "xaxis": {
           "automargin": true,
           "gridcolor": "white",
           "linecolor": "white",
           "ticks": "",
           "title": {
            "standoff": 15
           },
           "zerolinecolor": "white",
           "zerolinewidth": 2
          },
          "yaxis": {
           "automargin": true,
           "gridcolor": "white",
           "linecolor": "white",
           "ticks": "",
           "title": {
            "standoff": 15
           },
           "zerolinecolor": "white",
           "zerolinewidth": 2
          }
         }
        },
        "title": {
         "text": "Total Sales by Date and Product",
         "x": 0.5
        },
        "width": 1200,
        "xaxis": {
         "anchor": "y",
         "domain": [
          0,
          0.039999999999999994
         ],
         "ticks": "outside",
         "title": {
          "text": "Date"
         },
         "type": "category"
        },
        "xaxis10": {
         "anchor": "y10",
         "domain": [
          0.5399999999999998,
          0.5799999999999998
         ],
         "matches": "x",
         "title": {
          "text": "Date"
         }
        },
        "xaxis11": {
         "anchor": "y11",
         "domain": [
          0.5999999999999999,
          0.6399999999999999
         ],
         "matches": "x",
         "title": {
          "text": "Date"
         }
        },
        "xaxis12": {
         "anchor": "y12",
         "domain": [
          0.6599999999999998,
          0.6999999999999998
         ],
         "matches": "x",
         "title": {
          "text": "Date"
         }
        },
        "xaxis13": {
         "anchor": "y13",
         "domain": [
          0.7199999999999998,
          0.7599999999999998
         ],
         "matches": "x",
         "title": {
          "text": "Date"
         }
        },
        "xaxis14": {
         "anchor": "y14",
         "domain": [
          0.7799999999999998,
          0.8199999999999998
         ],
         "matches": "x",
         "title": {
          "text": "Date"
         }
        },
        "xaxis15": {
         "anchor": "y15",
         "domain": [
          0.8399999999999999,
          0.8799999999999999
         ],
         "matches": "x",
         "title": {
          "text": "Date"
         }
        },
        "xaxis16": {
         "anchor": "y16",
         "domain": [
          0.8999999999999999,
          0.94
         ],
         "matches": "x",
         "title": {
          "text": "Date"
         }
        },
        "xaxis17": {
         "anchor": "y17",
         "domain": [
          0.96,
          1
         ],
         "matches": "x",
         "title": {
          "text": "Date"
         }
        },
        "xaxis2": {
         "anchor": "y2",
         "domain": [
          0.06,
          0.09999999999999999
         ],
         "matches": "x",
         "title": {
          "text": "Date"
         }
        },
        "xaxis3": {
         "anchor": "y3",
         "domain": [
          0.12,
          0.15999999999999998
         ],
         "matches": "x",
         "title": {
          "text": "Date"
         }
        },
        "xaxis4": {
         "anchor": "y4",
         "domain": [
          0.18,
          0.21999999999999997
         ],
         "matches": "x",
         "title": {
          "text": "Date"
         }
        },
        "xaxis5": {
         "anchor": "y5",
         "domain": [
          0.24,
          0.27999999999999997
         ],
         "matches": "x",
         "title": {
          "text": "Date"
         }
        },
        "xaxis6": {
         "anchor": "y6",
         "domain": [
          0.29999999999999993,
          0.3399999999999999
         ],
         "matches": "x",
         "title": {
          "text": "Date"
         }
        },
        "xaxis7": {
         "anchor": "y7",
         "domain": [
          0.35999999999999993,
          0.3999999999999999
         ],
         "matches": "x",
         "title": {
          "text": "Date"
         }
        },
        "xaxis8": {
         "anchor": "y8",
         "domain": [
          0.41999999999999993,
          0.4599999999999999
         ],
         "matches": "x",
         "title": {
          "text": "Date"
         }
        },
        "xaxis9": {
         "anchor": "y9",
         "domain": [
          0.47999999999999987,
          0.5199999999999999
         ],
         "matches": "x",
         "title": {
          "text": "Date"
         }
        },
        "yaxis": {
         "anchor": "x",
         "domain": [
          0,
          1
         ],
         "title": {
          "text": "Total Sales"
         }
        },
        "yaxis10": {
         "anchor": "x10",
         "domain": [
          0,
          1
         ],
         "matches": "y",
         "showticklabels": false
        },
        "yaxis11": {
         "anchor": "x11",
         "domain": [
          0,
          1
         ],
         "matches": "y",
         "showticklabels": false
        },
        "yaxis12": {
         "anchor": "x12",
         "domain": [
          0,
          1
         ],
         "matches": "y",
         "showticklabels": false
        },
        "yaxis13": {
         "anchor": "x13",
         "domain": [
          0,
          1
         ],
         "matches": "y",
         "showticklabels": false
        },
        "yaxis14": {
         "anchor": "x14",
         "domain": [
          0,
          1
         ],
         "matches": "y",
         "showticklabels": false
        },
        "yaxis15": {
         "anchor": "x15",
         "domain": [
          0,
          1
         ],
         "matches": "y",
         "showticklabels": false
        },
        "yaxis16": {
         "anchor": "x16",
         "domain": [
          0,
          1
         ],
         "matches": "y",
         "showticklabels": false
        },
        "yaxis17": {
         "anchor": "x17",
         "domain": [
          0,
          1
         ],
         "matches": "y",
         "showticklabels": false
        },
        "yaxis2": {
         "anchor": "x2",
         "domain": [
          0,
          1
         ],
         "matches": "y",
         "showticklabels": false
        },
        "yaxis3": {
         "anchor": "x3",
         "domain": [
          0,
          1
         ],
         "matches": "y",
         "showticklabels": false
        },
        "yaxis4": {
         "anchor": "x4",
         "domain": [
          0,
          1
         ],
         "matches": "y",
         "showticklabels": false
        },
        "yaxis5": {
         "anchor": "x5",
         "domain": [
          0,
          1
         ],
         "matches": "y",
         "showticklabels": false
        },
        "yaxis6": {
         "anchor": "x6",
         "domain": [
          0,
          1
         ],
         "matches": "y",
         "showticklabels": false
        },
        "yaxis7": {
         "anchor": "x7",
         "domain": [
          0,
          1
         ],
         "matches": "y",
         "showticklabels": false
        },
        "yaxis8": {
         "anchor": "x8",
         "domain": [
          0,
          1
         ],
         "matches": "y",
         "showticklabels": false
        },
        "yaxis9": {
         "anchor": "x9",
         "domain": [
          0,
          1
         ],
         "matches": "y",
         "showticklabels": false
        }
       }
      }
     },
     "metadata": {},
     "output_type": "display_data"
    }
   ],
   "source": [
    "# Create the figure with facets\n",
    "fig = px.bar(cumulative_df,\n",
    "             x='date',  # Use date as the x-axis\n",
    "             y='TotalPrice',\n",
    "             color='ProductCategoryName',  # Color based on product category\n",
    "             color_continuous_scale=px.colors.sequential.Plasma,\n",
    "             facet_col='ProductCategoryName',  # Facet by product category\n",
    "             labels={'TotalPrice': 'Total Sales (USD)', 'date': 'Date', 'ProductCategoryName': 'Product'},\n",
    "             title='Total Sales by Date and Product')\n",
    "\n",
    "# Update layout to adjust the axes and facet spacing\n",
    "fig.update_layout(\n",
    "    yaxis_title=\"Total Sales\",\n",
    "    xaxis_title=\"Date\",  # Set the x-axis title to 'Date'\n",
    "    xaxis={'type': 'category'},  # This ensures the categories (Dates) are treated distinctly\n",
    "    xaxis_ticks=\"outside\",  # Ticks are shown outside\n",
    "    showlegend= True,  # Show the legend\n",
    "    legend=dict(title='Product Category', orientation='v', yanchor='middle', y=0.5, xanchor='right', x=1),\n",
    "    title_x=0.5,  # Set the title to the center of the plot\n",
    "    margin=dict(t=100),  # Add top margin to make space for the x-axis title\n",
    ")\n",
    "\n",
    "# Add vertical lines and additional customizations if necessary\n",
    "# for date in df['Date'].unique():\n",
    "#     fig.add_vline(x=date, line_width=2, line_dash=\"dash\", line_color=\"red\")\n",
    "def custom_facet_col_wrap(facet_col_vals):\n",
    "    return [val.split('=')[1] for val in facet_col_vals]\n",
    "\n",
    "fig.for_each_annotation(lambda a: a.update(text=f\" {a.text.split('=')[1]}\"))\n",
    "\n",
    "# Update the figure size for better visibility\n",
    "fig.update_layout(width=1200, height=800)\n",
    "\n",
    "fig.show()\n"
   ]
  }
 ],
 "metadata": {
  "anaconda-cloud": {},
  "kernelspec": {
   "display_name": "Python 3 (ipykernel)",
   "language": "python",
   "name": "python3"
  },
  "language_info": {
   "codemirror_mode": {
    "name": "ipython",
    "version": 3
   },
   "file_extension": ".py",
   "mimetype": "text/x-python",
   "name": "python",
   "nbconvert_exporter": "python",
   "pygments_lexer": "ipython3",
   "version": "3.10.13"
  }
 },
 "nbformat": 4,
 "nbformat_minor": 2
}
